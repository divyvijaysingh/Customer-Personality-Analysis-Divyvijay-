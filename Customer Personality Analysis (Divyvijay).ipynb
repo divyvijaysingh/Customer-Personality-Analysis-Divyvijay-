{
 "cells": [
  {
   "cell_type": "code",
   "execution_count": 1,
   "id": "fbccbccd",
   "metadata": {},
   "outputs": [],
   "source": [
    "#IMPORT THE LIBRARIES....\n",
    "import numpy as np # linear algebra....\n",
    "import pandas as pd # data processing, \n",
    "from matplotlib import pyplot as plt #Visualization of the data....\n",
    "%matplotlib inline\n",
    "import seaborn as sns\n",
    "\n",
    "from datetime import date\n",
    "import plotly.express as px\n",
    "import plotly.graph_objects as go\n",
    "import warnings\n",
    "warnings.filterwarnings(\"ignore\")"
   ]
  },
  {
   "cell_type": "code",
   "execution_count": 2,
   "id": "f9cb285e",
   "metadata": {},
   "outputs": [
    {
     "data": {
      "text/html": [
       "<div>\n",
       "<style scoped>\n",
       "    .dataframe tbody tr th:only-of-type {\n",
       "        vertical-align: middle;\n",
       "    }\n",
       "\n",
       "    .dataframe tbody tr th {\n",
       "        vertical-align: top;\n",
       "    }\n",
       "\n",
       "    .dataframe thead th {\n",
       "        text-align: right;\n",
       "    }\n",
       "</style>\n",
       "<table border=\"1\" class=\"dataframe\">\n",
       "  <thead>\n",
       "    <tr style=\"text-align: right;\">\n",
       "      <th></th>\n",
       "      <th>ID</th>\n",
       "      <th>Year_Birth</th>\n",
       "      <th>Education</th>\n",
       "      <th>Marital_Status</th>\n",
       "      <th>Income</th>\n",
       "      <th>Kidhome</th>\n",
       "      <th>Teenhome</th>\n",
       "      <th>Dt_Customer</th>\n",
       "      <th>Recency</th>\n",
       "      <th>MntWines</th>\n",
       "      <th>...</th>\n",
       "      <th>NumWebVisitsMonth</th>\n",
       "      <th>AcceptedCmp3</th>\n",
       "      <th>AcceptedCmp4</th>\n",
       "      <th>AcceptedCmp5</th>\n",
       "      <th>AcceptedCmp1</th>\n",
       "      <th>AcceptedCmp2</th>\n",
       "      <th>Complain</th>\n",
       "      <th>Z_CostContact</th>\n",
       "      <th>Z_Revenue</th>\n",
       "      <th>Response</th>\n",
       "    </tr>\n",
       "  </thead>\n",
       "  <tbody>\n",
       "    <tr>\n",
       "      <th>0</th>\n",
       "      <td>5524</td>\n",
       "      <td>1957</td>\n",
       "      <td>Graduation</td>\n",
       "      <td>Single</td>\n",
       "      <td>58138.0</td>\n",
       "      <td>0</td>\n",
       "      <td>0</td>\n",
       "      <td>04-09-2012</td>\n",
       "      <td>58</td>\n",
       "      <td>635</td>\n",
       "      <td>...</td>\n",
       "      <td>7</td>\n",
       "      <td>0</td>\n",
       "      <td>0</td>\n",
       "      <td>0</td>\n",
       "      <td>0</td>\n",
       "      <td>0</td>\n",
       "      <td>0</td>\n",
       "      <td>3</td>\n",
       "      <td>11</td>\n",
       "      <td>1</td>\n",
       "    </tr>\n",
       "    <tr>\n",
       "      <th>1</th>\n",
       "      <td>2174</td>\n",
       "      <td>1954</td>\n",
       "      <td>Graduation</td>\n",
       "      <td>Single</td>\n",
       "      <td>46344.0</td>\n",
       "      <td>1</td>\n",
       "      <td>1</td>\n",
       "      <td>08-03-2014</td>\n",
       "      <td>38</td>\n",
       "      <td>11</td>\n",
       "      <td>...</td>\n",
       "      <td>5</td>\n",
       "      <td>0</td>\n",
       "      <td>0</td>\n",
       "      <td>0</td>\n",
       "      <td>0</td>\n",
       "      <td>0</td>\n",
       "      <td>0</td>\n",
       "      <td>3</td>\n",
       "      <td>11</td>\n",
       "      <td>0</td>\n",
       "    </tr>\n",
       "    <tr>\n",
       "      <th>2</th>\n",
       "      <td>4141</td>\n",
       "      <td>1965</td>\n",
       "      <td>Graduation</td>\n",
       "      <td>Together</td>\n",
       "      <td>71613.0</td>\n",
       "      <td>0</td>\n",
       "      <td>0</td>\n",
       "      <td>21-08-2013</td>\n",
       "      <td>26</td>\n",
       "      <td>426</td>\n",
       "      <td>...</td>\n",
       "      <td>4</td>\n",
       "      <td>0</td>\n",
       "      <td>0</td>\n",
       "      <td>0</td>\n",
       "      <td>0</td>\n",
       "      <td>0</td>\n",
       "      <td>0</td>\n",
       "      <td>3</td>\n",
       "      <td>11</td>\n",
       "      <td>0</td>\n",
       "    </tr>\n",
       "    <tr>\n",
       "      <th>3</th>\n",
       "      <td>6182</td>\n",
       "      <td>1984</td>\n",
       "      <td>Graduation</td>\n",
       "      <td>Together</td>\n",
       "      <td>26646.0</td>\n",
       "      <td>1</td>\n",
       "      <td>0</td>\n",
       "      <td>10-02-2014</td>\n",
       "      <td>26</td>\n",
       "      <td>11</td>\n",
       "      <td>...</td>\n",
       "      <td>6</td>\n",
       "      <td>0</td>\n",
       "      <td>0</td>\n",
       "      <td>0</td>\n",
       "      <td>0</td>\n",
       "      <td>0</td>\n",
       "      <td>0</td>\n",
       "      <td>3</td>\n",
       "      <td>11</td>\n",
       "      <td>0</td>\n",
       "    </tr>\n",
       "    <tr>\n",
       "      <th>4</th>\n",
       "      <td>5324</td>\n",
       "      <td>1981</td>\n",
       "      <td>PhD</td>\n",
       "      <td>Married</td>\n",
       "      <td>58293.0</td>\n",
       "      <td>1</td>\n",
       "      <td>0</td>\n",
       "      <td>19-01-2014</td>\n",
       "      <td>94</td>\n",
       "      <td>173</td>\n",
       "      <td>...</td>\n",
       "      <td>5</td>\n",
       "      <td>0</td>\n",
       "      <td>0</td>\n",
       "      <td>0</td>\n",
       "      <td>0</td>\n",
       "      <td>0</td>\n",
       "      <td>0</td>\n",
       "      <td>3</td>\n",
       "      <td>11</td>\n",
       "      <td>0</td>\n",
       "    </tr>\n",
       "  </tbody>\n",
       "</table>\n",
       "<p>5 rows × 29 columns</p>\n",
       "</div>"
      ],
      "text/plain": [
       "     ID  Year_Birth   Education Marital_Status   Income  Kidhome  Teenhome  \\\n",
       "0  5524        1957  Graduation         Single  58138.0        0         0   \n",
       "1  2174        1954  Graduation         Single  46344.0        1         1   \n",
       "2  4141        1965  Graduation       Together  71613.0        0         0   \n",
       "3  6182        1984  Graduation       Together  26646.0        1         0   \n",
       "4  5324        1981         PhD        Married  58293.0        1         0   \n",
       "\n",
       "  Dt_Customer  Recency  MntWines  ...  NumWebVisitsMonth  AcceptedCmp3  \\\n",
       "0  04-09-2012       58       635  ...                  7             0   \n",
       "1  08-03-2014       38        11  ...                  5             0   \n",
       "2  21-08-2013       26       426  ...                  4             0   \n",
       "3  10-02-2014       26        11  ...                  6             0   \n",
       "4  19-01-2014       94       173  ...                  5             0   \n",
       "\n",
       "   AcceptedCmp4  AcceptedCmp5  AcceptedCmp1  AcceptedCmp2  Complain  \\\n",
       "0             0             0             0             0         0   \n",
       "1             0             0             0             0         0   \n",
       "2             0             0             0             0         0   \n",
       "3             0             0             0             0         0   \n",
       "4             0             0             0             0         0   \n",
       "\n",
       "   Z_CostContact  Z_Revenue  Response  \n",
       "0              3         11         1  \n",
       "1              3         11         0  \n",
       "2              3         11         0  \n",
       "3              3         11         0  \n",
       "4              3         11         0  \n",
       "\n",
       "[5 rows x 29 columns]"
      ]
     },
     "execution_count": 2,
     "metadata": {},
     "output_type": "execute_result"
    }
   ],
   "source": [
    "#READ THE DATASET...\n",
    "main_df = pd.read_csv(r\"C:\\Users\\DELL\\Desktop\\numpy/marketing_campaign.csv\", sep=\"\\t\")\n",
    "main_df.head()"
   ]
  },
  {
   "cell_type": "code",
   "execution_count": 3,
   "id": "98e8d09b",
   "metadata": {},
   "outputs": [],
   "source": [
    "#CREATING A COPY OF THE RAW DATASET....\n",
    "df = main_df.copy()"
   ]
  },
  {
   "cell_type": "code",
   "execution_count": 4,
   "id": "c74b6bd9",
   "metadata": {},
   "outputs": [
    {
     "name": "stdout",
     "output_type": "stream",
     "text": [
      "Shape of the DataFrame is : (2240, 29)\n"
     ]
    }
   ],
   "source": [
    "#SHAPE OF THE DATASET.....\n",
    "print(\"Shape of the DataFrame is :\",df.shape)"
   ]
  },
  {
   "cell_type": "code",
   "execution_count": 5,
   "id": "c1cb62f1",
   "metadata": {},
   "outputs": [
    {
     "name": "stdout",
     "output_type": "stream",
     "text": [
      "Columns in DataFrame is :\n",
      " Index(['ID', 'Year_Birth', 'Education', 'Marital_Status', 'Income', 'Kidhome',\n",
      "       'Teenhome', 'Dt_Customer', 'Recency', 'MntWines', 'MntFruits',\n",
      "       'MntMeatProducts', 'MntFishProducts', 'MntSweetProducts',\n",
      "       'MntGoldProds', 'NumDealsPurchases', 'NumWebPurchases',\n",
      "       'NumCatalogPurchases', 'NumStorePurchases', 'NumWebVisitsMonth',\n",
      "       'AcceptedCmp3', 'AcceptedCmp4', 'AcceptedCmp5', 'AcceptedCmp1',\n",
      "       'AcceptedCmp2', 'Complain', 'Z_CostContact', 'Z_Revenue', 'Response'],\n",
      "      dtype='object')\n"
     ]
    }
   ],
   "source": [
    "#CHECK THE COLUMNS NAME....\n",
    "print(\"Columns in DataFrame is :\\n\",df.columns)"
   ]
  },
  {
   "cell_type": "code",
   "execution_count": 6,
   "id": "eeab5fac",
   "metadata": {},
   "outputs": [
    {
     "name": "stdout",
     "output_type": "stream",
     "text": [
      "<class 'pandas.core.frame.DataFrame'>\n",
      "RangeIndex: 2240 entries, 0 to 2239\n",
      "Data columns (total 29 columns):\n",
      " #   Column               Non-Null Count  Dtype  \n",
      "---  ------               --------------  -----  \n",
      " 0   ID                   2240 non-null   int64  \n",
      " 1   Year_Birth           2240 non-null   int64  \n",
      " 2   Education            2240 non-null   object \n",
      " 3   Marital_Status       2240 non-null   object \n",
      " 4   Income               2216 non-null   float64\n",
      " 5   Kidhome              2240 non-null   int64  \n",
      " 6   Teenhome             2240 non-null   int64  \n",
      " 7   Dt_Customer          2240 non-null   object \n",
      " 8   Recency              2240 non-null   int64  \n",
      " 9   MntWines             2240 non-null   int64  \n",
      " 10  MntFruits            2240 non-null   int64  \n",
      " 11  MntMeatProducts      2240 non-null   int64  \n",
      " 12  MntFishProducts      2240 non-null   int64  \n",
      " 13  MntSweetProducts     2240 non-null   int64  \n",
      " 14  MntGoldProds         2240 non-null   int64  \n",
      " 15  NumDealsPurchases    2240 non-null   int64  \n",
      " 16  NumWebPurchases      2240 non-null   int64  \n",
      " 17  NumCatalogPurchases  2240 non-null   int64  \n",
      " 18  NumStorePurchases    2240 non-null   int64  \n",
      " 19  NumWebVisitsMonth    2240 non-null   int64  \n",
      " 20  AcceptedCmp3         2240 non-null   int64  \n",
      " 21  AcceptedCmp4         2240 non-null   int64  \n",
      " 22  AcceptedCmp5         2240 non-null   int64  \n",
      " 23  AcceptedCmp1         2240 non-null   int64  \n",
      " 24  AcceptedCmp2         2240 non-null   int64  \n",
      " 25  Complain             2240 non-null   int64  \n",
      " 26  Z_CostContact        2240 non-null   int64  \n",
      " 27  Z_Revenue            2240 non-null   int64  \n",
      " 28  Response             2240 non-null   int64  \n",
      "dtypes: float64(1), int64(25), object(3)\n",
      "memory usage: 507.6+ KB\n"
     ]
    }
   ],
   "source": [
    "df.info()"
   ]
  },
  {
   "cell_type": "code",
   "execution_count": 7,
   "id": "17f9c2dd",
   "metadata": {},
   "outputs": [
    {
     "data": {
      "text/html": [
       "<div>\n",
       "<style scoped>\n",
       "    .dataframe tbody tr th:only-of-type {\n",
       "        vertical-align: middle;\n",
       "    }\n",
       "\n",
       "    .dataframe tbody tr th {\n",
       "        vertical-align: top;\n",
       "    }\n",
       "\n",
       "    .dataframe thead th {\n",
       "        text-align: right;\n",
       "    }\n",
       "</style>\n",
       "<table border=\"1\" class=\"dataframe\">\n",
       "  <thead>\n",
       "    <tr style=\"text-align: right;\">\n",
       "      <th></th>\n",
       "      <th>ID</th>\n",
       "      <th>Year_Birth</th>\n",
       "      <th>Income</th>\n",
       "      <th>Kidhome</th>\n",
       "      <th>Teenhome</th>\n",
       "      <th>Recency</th>\n",
       "      <th>MntWines</th>\n",
       "      <th>MntFruits</th>\n",
       "      <th>MntMeatProducts</th>\n",
       "      <th>MntFishProducts</th>\n",
       "      <th>...</th>\n",
       "      <th>NumWebVisitsMonth</th>\n",
       "      <th>AcceptedCmp3</th>\n",
       "      <th>AcceptedCmp4</th>\n",
       "      <th>AcceptedCmp5</th>\n",
       "      <th>AcceptedCmp1</th>\n",
       "      <th>AcceptedCmp2</th>\n",
       "      <th>Complain</th>\n",
       "      <th>Z_CostContact</th>\n",
       "      <th>Z_Revenue</th>\n",
       "      <th>Response</th>\n",
       "    </tr>\n",
       "  </thead>\n",
       "  <tbody>\n",
       "    <tr>\n",
       "      <th>count</th>\n",
       "      <td>2240.000000</td>\n",
       "      <td>2240.000000</td>\n",
       "      <td>2216.000000</td>\n",
       "      <td>2240.000000</td>\n",
       "      <td>2240.000000</td>\n",
       "      <td>2240.000000</td>\n",
       "      <td>2240.000000</td>\n",
       "      <td>2240.000000</td>\n",
       "      <td>2240.000000</td>\n",
       "      <td>2240.000000</td>\n",
       "      <td>...</td>\n",
       "      <td>2240.000000</td>\n",
       "      <td>2240.000000</td>\n",
       "      <td>2240.000000</td>\n",
       "      <td>2240.000000</td>\n",
       "      <td>2240.000000</td>\n",
       "      <td>2240.000000</td>\n",
       "      <td>2240.000000</td>\n",
       "      <td>2240.0</td>\n",
       "      <td>2240.0</td>\n",
       "      <td>2240.000000</td>\n",
       "    </tr>\n",
       "    <tr>\n",
       "      <th>mean</th>\n",
       "      <td>5592.159821</td>\n",
       "      <td>1968.805804</td>\n",
       "      <td>52247.251354</td>\n",
       "      <td>0.444196</td>\n",
       "      <td>0.506250</td>\n",
       "      <td>49.109375</td>\n",
       "      <td>303.935714</td>\n",
       "      <td>26.302232</td>\n",
       "      <td>166.950000</td>\n",
       "      <td>37.525446</td>\n",
       "      <td>...</td>\n",
       "      <td>5.316518</td>\n",
       "      <td>0.072768</td>\n",
       "      <td>0.074554</td>\n",
       "      <td>0.072768</td>\n",
       "      <td>0.064286</td>\n",
       "      <td>0.013393</td>\n",
       "      <td>0.009375</td>\n",
       "      <td>3.0</td>\n",
       "      <td>11.0</td>\n",
       "      <td>0.149107</td>\n",
       "    </tr>\n",
       "    <tr>\n",
       "      <th>std</th>\n",
       "      <td>3246.662198</td>\n",
       "      <td>11.984069</td>\n",
       "      <td>25173.076661</td>\n",
       "      <td>0.538398</td>\n",
       "      <td>0.544538</td>\n",
       "      <td>28.962453</td>\n",
       "      <td>336.597393</td>\n",
       "      <td>39.773434</td>\n",
       "      <td>225.715373</td>\n",
       "      <td>54.628979</td>\n",
       "      <td>...</td>\n",
       "      <td>2.426645</td>\n",
       "      <td>0.259813</td>\n",
       "      <td>0.262728</td>\n",
       "      <td>0.259813</td>\n",
       "      <td>0.245316</td>\n",
       "      <td>0.114976</td>\n",
       "      <td>0.096391</td>\n",
       "      <td>0.0</td>\n",
       "      <td>0.0</td>\n",
       "      <td>0.356274</td>\n",
       "    </tr>\n",
       "    <tr>\n",
       "      <th>min</th>\n",
       "      <td>0.000000</td>\n",
       "      <td>1893.000000</td>\n",
       "      <td>1730.000000</td>\n",
       "      <td>0.000000</td>\n",
       "      <td>0.000000</td>\n",
       "      <td>0.000000</td>\n",
       "      <td>0.000000</td>\n",
       "      <td>0.000000</td>\n",
       "      <td>0.000000</td>\n",
       "      <td>0.000000</td>\n",
       "      <td>...</td>\n",
       "      <td>0.000000</td>\n",
       "      <td>0.000000</td>\n",
       "      <td>0.000000</td>\n",
       "      <td>0.000000</td>\n",
       "      <td>0.000000</td>\n",
       "      <td>0.000000</td>\n",
       "      <td>0.000000</td>\n",
       "      <td>3.0</td>\n",
       "      <td>11.0</td>\n",
       "      <td>0.000000</td>\n",
       "    </tr>\n",
       "    <tr>\n",
       "      <th>25%</th>\n",
       "      <td>2828.250000</td>\n",
       "      <td>1959.000000</td>\n",
       "      <td>35303.000000</td>\n",
       "      <td>0.000000</td>\n",
       "      <td>0.000000</td>\n",
       "      <td>24.000000</td>\n",
       "      <td>23.750000</td>\n",
       "      <td>1.000000</td>\n",
       "      <td>16.000000</td>\n",
       "      <td>3.000000</td>\n",
       "      <td>...</td>\n",
       "      <td>3.000000</td>\n",
       "      <td>0.000000</td>\n",
       "      <td>0.000000</td>\n",
       "      <td>0.000000</td>\n",
       "      <td>0.000000</td>\n",
       "      <td>0.000000</td>\n",
       "      <td>0.000000</td>\n",
       "      <td>3.0</td>\n",
       "      <td>11.0</td>\n",
       "      <td>0.000000</td>\n",
       "    </tr>\n",
       "    <tr>\n",
       "      <th>50%</th>\n",
       "      <td>5458.500000</td>\n",
       "      <td>1970.000000</td>\n",
       "      <td>51381.500000</td>\n",
       "      <td>0.000000</td>\n",
       "      <td>0.000000</td>\n",
       "      <td>49.000000</td>\n",
       "      <td>173.500000</td>\n",
       "      <td>8.000000</td>\n",
       "      <td>67.000000</td>\n",
       "      <td>12.000000</td>\n",
       "      <td>...</td>\n",
       "      <td>6.000000</td>\n",
       "      <td>0.000000</td>\n",
       "      <td>0.000000</td>\n",
       "      <td>0.000000</td>\n",
       "      <td>0.000000</td>\n",
       "      <td>0.000000</td>\n",
       "      <td>0.000000</td>\n",
       "      <td>3.0</td>\n",
       "      <td>11.0</td>\n",
       "      <td>0.000000</td>\n",
       "    </tr>\n",
       "    <tr>\n",
       "      <th>75%</th>\n",
       "      <td>8427.750000</td>\n",
       "      <td>1977.000000</td>\n",
       "      <td>68522.000000</td>\n",
       "      <td>1.000000</td>\n",
       "      <td>1.000000</td>\n",
       "      <td>74.000000</td>\n",
       "      <td>504.250000</td>\n",
       "      <td>33.000000</td>\n",
       "      <td>232.000000</td>\n",
       "      <td>50.000000</td>\n",
       "      <td>...</td>\n",
       "      <td>7.000000</td>\n",
       "      <td>0.000000</td>\n",
       "      <td>0.000000</td>\n",
       "      <td>0.000000</td>\n",
       "      <td>0.000000</td>\n",
       "      <td>0.000000</td>\n",
       "      <td>0.000000</td>\n",
       "      <td>3.0</td>\n",
       "      <td>11.0</td>\n",
       "      <td>0.000000</td>\n",
       "    </tr>\n",
       "    <tr>\n",
       "      <th>max</th>\n",
       "      <td>11191.000000</td>\n",
       "      <td>1996.000000</td>\n",
       "      <td>666666.000000</td>\n",
       "      <td>2.000000</td>\n",
       "      <td>2.000000</td>\n",
       "      <td>99.000000</td>\n",
       "      <td>1493.000000</td>\n",
       "      <td>199.000000</td>\n",
       "      <td>1725.000000</td>\n",
       "      <td>259.000000</td>\n",
       "      <td>...</td>\n",
       "      <td>20.000000</td>\n",
       "      <td>1.000000</td>\n",
       "      <td>1.000000</td>\n",
       "      <td>1.000000</td>\n",
       "      <td>1.000000</td>\n",
       "      <td>1.000000</td>\n",
       "      <td>1.000000</td>\n",
       "      <td>3.0</td>\n",
       "      <td>11.0</td>\n",
       "      <td>1.000000</td>\n",
       "    </tr>\n",
       "  </tbody>\n",
       "</table>\n",
       "<p>8 rows × 26 columns</p>\n",
       "</div>"
      ],
      "text/plain": [
       "                 ID   Year_Birth         Income      Kidhome     Teenhome  \\\n",
       "count   2240.000000  2240.000000    2216.000000  2240.000000  2240.000000   \n",
       "mean    5592.159821  1968.805804   52247.251354     0.444196     0.506250   \n",
       "std     3246.662198    11.984069   25173.076661     0.538398     0.544538   \n",
       "min        0.000000  1893.000000    1730.000000     0.000000     0.000000   \n",
       "25%     2828.250000  1959.000000   35303.000000     0.000000     0.000000   \n",
       "50%     5458.500000  1970.000000   51381.500000     0.000000     0.000000   \n",
       "75%     8427.750000  1977.000000   68522.000000     1.000000     1.000000   \n",
       "max    11191.000000  1996.000000  666666.000000     2.000000     2.000000   \n",
       "\n",
       "           Recency     MntWines    MntFruits  MntMeatProducts  \\\n",
       "count  2240.000000  2240.000000  2240.000000      2240.000000   \n",
       "mean     49.109375   303.935714    26.302232       166.950000   \n",
       "std      28.962453   336.597393    39.773434       225.715373   \n",
       "min       0.000000     0.000000     0.000000         0.000000   \n",
       "25%      24.000000    23.750000     1.000000        16.000000   \n",
       "50%      49.000000   173.500000     8.000000        67.000000   \n",
       "75%      74.000000   504.250000    33.000000       232.000000   \n",
       "max      99.000000  1493.000000   199.000000      1725.000000   \n",
       "\n",
       "       MntFishProducts  ...  NumWebVisitsMonth  AcceptedCmp3  AcceptedCmp4  \\\n",
       "count      2240.000000  ...        2240.000000   2240.000000   2240.000000   \n",
       "mean         37.525446  ...           5.316518      0.072768      0.074554   \n",
       "std          54.628979  ...           2.426645      0.259813      0.262728   \n",
       "min           0.000000  ...           0.000000      0.000000      0.000000   \n",
       "25%           3.000000  ...           3.000000      0.000000      0.000000   \n",
       "50%          12.000000  ...           6.000000      0.000000      0.000000   \n",
       "75%          50.000000  ...           7.000000      0.000000      0.000000   \n",
       "max         259.000000  ...          20.000000      1.000000      1.000000   \n",
       "\n",
       "       AcceptedCmp5  AcceptedCmp1  AcceptedCmp2     Complain  Z_CostContact  \\\n",
       "count   2240.000000   2240.000000   2240.000000  2240.000000         2240.0   \n",
       "mean       0.072768      0.064286      0.013393     0.009375            3.0   \n",
       "std        0.259813      0.245316      0.114976     0.096391            0.0   \n",
       "min        0.000000      0.000000      0.000000     0.000000            3.0   \n",
       "25%        0.000000      0.000000      0.000000     0.000000            3.0   \n",
       "50%        0.000000      0.000000      0.000000     0.000000            3.0   \n",
       "75%        0.000000      0.000000      0.000000     0.000000            3.0   \n",
       "max        1.000000      1.000000      1.000000     1.000000            3.0   \n",
       "\n",
       "       Z_Revenue     Response  \n",
       "count     2240.0  2240.000000  \n",
       "mean        11.0     0.149107  \n",
       "std          0.0     0.356274  \n",
       "min         11.0     0.000000  \n",
       "25%         11.0     0.000000  \n",
       "50%         11.0     0.000000  \n",
       "75%         11.0     0.000000  \n",
       "max         11.0     1.000000  \n",
       "\n",
       "[8 rows x 26 columns]"
      ]
     },
     "execution_count": 7,
     "metadata": {},
     "output_type": "execute_result"
    }
   ],
   "source": [
    "#LETS DO THE BASIC STATISTICS ON CONTINOUS FEATURES...\n",
    "df.describe()#.style.set_properties(**{\"background-color\": \"#fffc99\",\"color\": \"black\", \"border-color\": \"black\"})"
   ]
  },
  {
   "cell_type": "code",
   "execution_count": 8,
   "id": "0680cbac",
   "metadata": {},
   "outputs": [
    {
     "data": {
      "text/plain": [
       "Income                 24\n",
       "ID                      0\n",
       "NumDealsPurchases       0\n",
       "Z_Revenue               0\n",
       "Z_CostContact           0\n",
       "Complain                0\n",
       "AcceptedCmp2            0\n",
       "AcceptedCmp1            0\n",
       "AcceptedCmp5            0\n",
       "AcceptedCmp4            0\n",
       "AcceptedCmp3            0\n",
       "NumWebVisitsMonth       0\n",
       "NumStorePurchases       0\n",
       "NumCatalogPurchases     0\n",
       "NumWebPurchases         0\n",
       "MntGoldProds            0\n",
       "Year_Birth              0\n",
       "MntSweetProducts        0\n",
       "MntFishProducts         0\n",
       "MntMeatProducts         0\n",
       "MntFruits               0\n",
       "MntWines                0\n",
       "Recency                 0\n",
       "Dt_Customer             0\n",
       "Teenhome                0\n",
       "Kidhome                 0\n",
       "Marital_Status          0\n",
       "Education               0\n",
       "Response                0\n",
       "dtype: int64"
      ]
     },
     "execution_count": 8,
     "metadata": {},
     "output_type": "execute_result"
    }
   ],
   "source": [
    "df.isnull().sum().sort_values(ascending = False)"
   ]
  },
  {
   "cell_type": "code",
   "execution_count": 9,
   "id": "7475e00f",
   "metadata": {},
   "outputs": [],
   "source": [
    "#FILL THE MISSING VALUES WITH THE MEDIAN VALUES.. \n",
    "df['Income']=df['Income'].fillna(df['Income'].median())"
   ]
  },
  {
   "cell_type": "code",
   "execution_count": 10,
   "id": "96175d20",
   "metadata": {},
   "outputs": [
    {
     "data": {
      "text/plain": [
       "ID                     False\n",
       "Year_Birth             False\n",
       "Education              False\n",
       "Marital_Status         False\n",
       "Income                 False\n",
       "Kidhome                False\n",
       "Teenhome               False\n",
       "Dt_Customer            False\n",
       "Recency                False\n",
       "MntWines               False\n",
       "MntFruits              False\n",
       "MntMeatProducts        False\n",
       "MntFishProducts        False\n",
       "MntSweetProducts       False\n",
       "MntGoldProds           False\n",
       "NumDealsPurchases      False\n",
       "NumWebPurchases        False\n",
       "NumCatalogPurchases    False\n",
       "NumStorePurchases      False\n",
       "NumWebVisitsMonth      False\n",
       "AcceptedCmp3           False\n",
       "AcceptedCmp4           False\n",
       "AcceptedCmp5           False\n",
       "AcceptedCmp1           False\n",
       "AcceptedCmp2           False\n",
       "Complain               False\n",
       "Z_CostContact          False\n",
       "Z_Revenue              False\n",
       "Response               False\n",
       "dtype: bool"
      ]
     },
     "execution_count": 10,
     "metadata": {},
     "output_type": "execute_result"
    }
   ],
   "source": [
    "#CHECKING IF ANY NAN IS PRESENT IN COLUMN OR NOT....\n",
    "df.isna().any()\n"
   ]
  },
  {
   "cell_type": "code",
   "execution_count": 11,
   "id": "266e10c5",
   "metadata": {},
   "outputs": [
    {
     "data": {
      "text/html": [
       "<div>\n",
       "<style scoped>\n",
       "    .dataframe tbody tr th:only-of-type {\n",
       "        vertical-align: middle;\n",
       "    }\n",
       "\n",
       "    .dataframe tbody tr th {\n",
       "        vertical-align: top;\n",
       "    }\n",
       "\n",
       "    .dataframe thead th {\n",
       "        text-align: right;\n",
       "    }\n",
       "</style>\n",
       "<table border=\"1\" class=\"dataframe\">\n",
       "  <thead>\n",
       "    <tr style=\"text-align: right;\">\n",
       "      <th></th>\n",
       "      <th>ID</th>\n",
       "      <th>Year_Birth</th>\n",
       "      <th>Education</th>\n",
       "      <th>Marital_Status</th>\n",
       "      <th>Income</th>\n",
       "      <th>Kidhome</th>\n",
       "      <th>Teenhome</th>\n",
       "      <th>Dt_Customer</th>\n",
       "      <th>Recency</th>\n",
       "      <th>MntWines</th>\n",
       "      <th>...</th>\n",
       "      <th>NumWebVisitsMonth</th>\n",
       "      <th>AcceptedCmp3</th>\n",
       "      <th>AcceptedCmp4</th>\n",
       "      <th>AcceptedCmp5</th>\n",
       "      <th>AcceptedCmp1</th>\n",
       "      <th>AcceptedCmp2</th>\n",
       "      <th>Complain</th>\n",
       "      <th>Z_CostContact</th>\n",
       "      <th>Z_Revenue</th>\n",
       "      <th>Response</th>\n",
       "    </tr>\n",
       "  </thead>\n",
       "  <tbody>\n",
       "  </tbody>\n",
       "</table>\n",
       "<p>0 rows × 29 columns</p>\n",
       "</div>"
      ],
      "text/plain": [
       "Empty DataFrame\n",
       "Columns: [ID, Year_Birth, Education, Marital_Status, Income, Kidhome, Teenhome, Dt_Customer, Recency, MntWines, MntFruits, MntMeatProducts, MntFishProducts, MntSweetProducts, MntGoldProds, NumDealsPurchases, NumWebPurchases, NumCatalogPurchases, NumStorePurchases, NumWebVisitsMonth, AcceptedCmp3, AcceptedCmp4, AcceptedCmp5, AcceptedCmp1, AcceptedCmp2, Complain, Z_CostContact, Z_Revenue, Response]\n",
       "Index: []\n",
       "\n",
       "[0 rows x 29 columns]"
      ]
     },
     "execution_count": 11,
     "metadata": {},
     "output_type": "execute_result"
    }
   ],
   "source": [
    "df[df.duplicated()]"
   ]
  },
  {
   "cell_type": "code",
   "execution_count": 12,
   "id": "21c65f47",
   "metadata": {},
   "outputs": [
    {
     "data": {
      "text/plain": [
       "ID                     2240\n",
       "Year_Birth               59\n",
       "Education                 5\n",
       "Marital_Status            8\n",
       "Income                 1975\n",
       "Kidhome                   3\n",
       "Teenhome                  3\n",
       "Dt_Customer             663\n",
       "Recency                 100\n",
       "MntWines                776\n",
       "MntFruits               158\n",
       "MntMeatProducts         558\n",
       "MntFishProducts         182\n",
       "MntSweetProducts        177\n",
       "MntGoldProds            213\n",
       "NumDealsPurchases        15\n",
       "NumWebPurchases          15\n",
       "NumCatalogPurchases      14\n",
       "NumStorePurchases        14\n",
       "NumWebVisitsMonth        16\n",
       "AcceptedCmp3              2\n",
       "AcceptedCmp4              2\n",
       "AcceptedCmp5              2\n",
       "AcceptedCmp1              2\n",
       "AcceptedCmp2              2\n",
       "Complain                  2\n",
       "Z_CostContact             1\n",
       "Z_Revenue                 1\n",
       "Response                  2\n",
       "dtype: int64"
      ]
     },
     "execution_count": 12,
     "metadata": {},
     "output_type": "execute_result"
    }
   ],
   "source": [
    "#FINDING THE NUMBER OF UNIQUE VALUES PRESENT IN EACH COLUMN...\n",
    "df.nunique()"
   ]
  },
  {
   "cell_type": "code",
   "execution_count": 13,
   "id": "15517613",
   "metadata": {},
   "outputs": [],
   "source": [
    "df=df.drop(columns=[\"Z_CostContact\", \"Z_Revenue\"],axis=1)"
   ]
  },
  {
   "cell_type": "code",
   "execution_count": 14,
   "id": "de893995",
   "metadata": {},
   "outputs": [
    {
     "name": "stdout",
     "output_type": "stream",
     "text": [
      "Unique categories present in the Year_Birth: 1976    89\n",
      "1971    87\n",
      "1975    83\n",
      "1972    79\n",
      "1970    77\n",
      "1978    77\n",
      "1973    74\n",
      "1965    74\n",
      "1969    71\n",
      "1974    69\n",
      "1956    55\n",
      "1979    53\n",
      "1958    53\n",
      "1977    52\n",
      "1952    52\n",
      "1968    51\n",
      "1959    51\n",
      "1966    50\n",
      "1954    50\n",
      "1955    49\n",
      "1960    49\n",
      "1963    45\n",
      "1982    45\n",
      "1967    44\n",
      "1962    44\n",
      "1951    43\n",
      "1957    43\n",
      "1986    42\n",
      "1983    42\n",
      "1964    42\n",
      "1980    39\n",
      "1981    39\n",
      "1984    38\n",
      "1961    36\n",
      "1953    35\n",
      "1985    32\n",
      "1949    30\n",
      "1989    30\n",
      "1988    29\n",
      "1950    29\n",
      "1987    27\n",
      "1948    21\n",
      "1990    18\n",
      "1947    16\n",
      "1946    16\n",
      "1991    15\n",
      "1992    13\n",
      "1945     8\n",
      "1943     7\n",
      "1944     7\n",
      "1995     5\n",
      "1993     5\n",
      "1994     3\n",
      "1996     2\n",
      "1900     1\n",
      "1941     1\n",
      "1899     1\n",
      "1940     1\n",
      "1893     1\n",
      "Name: Year_Birth, dtype: int64\n"
     ]
    }
   ],
   "source": [
    "#CHECKING NUMBER OF UNIQUE CATEGORIES PRESENT IN THE \"Year_Birth\"\n",
    "print(\"Unique categories present in the Year_Birth:\",df[\"Year_Birth\"].value_counts())"
   ]
  },
  {
   "cell_type": "code",
   "execution_count": 15,
   "id": "4bdbdb36",
   "metadata": {},
   "outputs": [
    {
     "data": {
      "text/plain": [
       "array(['Graduation', 'PhD', 'Master', 'Basic', '2n Cycle'], dtype=object)"
      ]
     },
     "execution_count": 15,
     "metadata": {},
     "output_type": "execute_result"
    }
   ],
   "source": [
    "df['Education'].unique()"
   ]
  },
  {
   "cell_type": "code",
   "execution_count": 16,
   "id": "ebeaeb28",
   "metadata": {},
   "outputs": [],
   "source": [
    "#CHANGING CATEGORY INTO \"UG\" AND \"PG\" ONLY....\n",
    "df['Education'] = df['Education'].replace(['PhD','2n Cycle','Graduation', 'Master'],'Post Graduate')  \n",
    "df['Education'] = df['Education'].replace(['Basic'], 'Under Graduate')"
   ]
  },
  {
   "cell_type": "code",
   "execution_count": 17,
   "id": "9780434d",
   "metadata": {},
   "outputs": [
    {
     "name": "stdout",
     "output_type": "stream",
     "text": [
      "Unique categories present in the Education: Post Graduate     2186\n",
      "Under Graduate      54\n",
      "Name: Education, dtype: int64\n",
      "\n",
      "\n"
     ]
    },
    {
     "data": {
      "text/plain": [
       "Text(0.5, 1.0, 'Frequency Of Each Category in the Education Variable \\n')"
      ]
     },
     "execution_count": 17,
     "metadata": {},
     "output_type": "execute_result"
    },
    {
     "data": {
      "image/png": "[encoded data removed]",
      "text/plain": [
       "<Figure size 432x288 with 1 Axes>"
      ]
     },
     "metadata": {
      "needs_background": "light"
     },
     "output_type": "display_data"
    }
   ],
   "source": [
    "#CHECKING NUMBER OF UNIQUE CATEGORIES PRESENT IN THE \"Education\"\n",
    "print(\"Unique categories present in the Education:\",df[\"Education\"].value_counts())\n",
    "print('\\n')\n",
    "\n",
    "#VISUALIZING THE \"Education\"\n",
    "df['Education'].value_counts().plot(kind='bar',color = 'mediumblue',edgecolor = \"black\",linewidth = 3)\n",
    "plt.title(\"Frequency Of Each Category in the Education Variable \\n\")"
   ]
  },
  {
   "cell_type": "markdown",
   "id": "f24f8f80",
   "metadata": {},
   "source": [
    "Observation #01 \n",
    "97.58% of Customers in the dataset are \"Post Graduate\".\n",
    "2.410% of Customers in the dataset are \"Under Graduate\"."
   ]
  },
  {
   "cell_type": "code",
   "execution_count": 18,
   "id": "63df2a8a",
   "metadata": {},
   "outputs": [
    {
     "data": {
      "text/plain": [
       "array(['Single', 'Together', 'Married', 'Divorced', 'Widow', 'Alone',\n",
       "       'Absurd', 'YOLO'], dtype=object)"
      ]
     },
     "execution_count": 18,
     "metadata": {},
     "output_type": "execute_result"
    }
   ],
   "source": [
    "df['Marital_Status'].unique()"
   ]
  },
  {
   "cell_type": "code",
   "execution_count": 19,
   "id": "5e146bd3",
   "metadata": {},
   "outputs": [],
   "source": [
    "#REPLACING VALUES IN Marital_status..\n",
    "df['Marital_Status'] = df['Marital_Status'].replace(['Married', 'Together'],'Relationship')\n",
    "df['Marital_Status'] = df['Marital_Status'].replace(['Divorced', 'Widow', 'Alone', 'YOLO', 'Absurd'],'Single')"
   ]
  },
  {
   "cell_type": "code",
   "execution_count": 20,
   "id": "96e4f11a",
   "metadata": {},
   "outputs": [
    {
     "name": "stdout",
     "output_type": "stream",
     "text": [
      "Unique categories present in the Marital_Status: Relationship    1444\n",
      "Single           796\n",
      "Name: Marital_Status, dtype: int64\n",
      "\n",
      "\n"
     ]
    },
    {
     "data": {
      "text/plain": [
       "Text(0.5, 1.0, 'Frequency Of Each Category in the Marital_Status Variable \\n')"
      ]
     },
     "execution_count": 20,
     "metadata": {},
     "output_type": "execute_result"
    },
    {
     "data": {
      "image/png": "[encoded data removed]",
      "text/plain": [
       "<Figure size 432x288 with 1 Axes>"
      ]
     },
     "metadata": {
      "needs_background": "light"
     },
     "output_type": "display_data"
    }
   ],
   "source": [
    "#CHECKING NUMBER OF UNIQUE CATEGORIES PRESENT IN THE \"Marital_Status\"\n",
    "print(\"Unique categories present in the Marital_Status:\",df['Marital_Status'].value_counts())\n",
    "print(\"\\n\")\n",
    "\n",
    "\n",
    "#VISUALIZING THE \"Marital_Status\"\n",
    "df['Marital_Status'].value_counts().plot(kind='bar',color = 'MediumBlue',edgecolor = \"black\",linewidth = 3)\n",
    "plt.title(\"Frequency Of Each Category in the Marital_Status Variable \\n\")"
   ]
  },
  {
   "cell_type": "markdown",
   "id": "4b07d715",
   "metadata": {},
   "source": [
    "64.46% of Customers in the dataset are in \"Relationship\".\n",
    "*35.53% of Customers in the dataset are \"Single\"."
   ]
  },
  {
   "cell_type": "code",
   "execution_count": 21,
   "id": "6c76e715",
   "metadata": {},
   "outputs": [],
   "source": [
    "# Combining different dataframe into a single column to reduce the number of dimension\n",
    "\n",
    "df['Kids'] = df['Kidhome'] + df['Teenhome']\n",
    "# Combining different dataframe into a single column to reduce the number of dimension\n",
    "\n",
    "df['Expenses'] = df['MntWines'] + df['MntFruits'] + df['MntMeatProducts'] + df['MntFishProducts'] + df['MntSweetProducts'] + df['MntGoldProds']\n",
    "df['Expenses'].head(10)\n",
    "\n",
    "df['TotalAcceptedCmp'] = df['AcceptedCmp1'] + df['AcceptedCmp2'] + df['AcceptedCmp3'] + df['AcceptedCmp4'] + df['AcceptedCmp5']"
   ]
  },
  {
   "cell_type": "code",
   "execution_count": 22,
   "id": "758753af",
   "metadata": {},
   "outputs": [
    {
     "data": {
      "text/plain": [
       "array([25,  6, 21,  8, 19, 22, 10,  2,  4, 16, 15,  5, 26,  9, 13, 12, 43,\n",
       "       17, 20, 14, 27, 11, 18, 28,  7, 24, 29, 23, 32, 30, 37, 31, 33, 35,\n",
       "       39,  1, 34,  0, 44], dtype=int64)"
      ]
     },
     "execution_count": 22,
     "metadata": {},
     "output_type": "execute_result"
    }
   ],
   "source": [
    "df['NumTotalPurchases'] = df['NumWebPurchases'] + df['NumCatalogPurchases'] + df['NumStorePurchases'] + df['NumDealsPurchases']\n",
    "df['NumTotalPurchases'].unique()"
   ]
  },
  {
   "cell_type": "code",
   "execution_count": 23,
   "id": "7813538b",
   "metadata": {},
   "outputs": [
    {
     "data": {
      "text/html": [
       "<style  type=\"text/css\" >\n",
       "#T_a82ca_row0_col0,#T_a82ca_row0_col1,#T_a82ca_row0_col2,#T_a82ca_row0_col3,#T_a82ca_row0_col4,#T_a82ca_row0_col5,#T_a82ca_row0_col6,#T_a82ca_row0_col7,#T_a82ca_row0_col8,#T_a82ca_row0_col9,#T_a82ca_row0_col10,#T_a82ca_row0_col11,#T_a82ca_row1_col0,#T_a82ca_row1_col1,#T_a82ca_row1_col2,#T_a82ca_row1_col3,#T_a82ca_row1_col4,#T_a82ca_row1_col5,#T_a82ca_row1_col6,#T_a82ca_row1_col7,#T_a82ca_row1_col8,#T_a82ca_row1_col9,#T_a82ca_row1_col10,#T_a82ca_row1_col11,#T_a82ca_row2_col0,#T_a82ca_row2_col1,#T_a82ca_row2_col2,#T_a82ca_row2_col3,#T_a82ca_row2_col4,#T_a82ca_row2_col5,#T_a82ca_row2_col6,#T_a82ca_row2_col7,#T_a82ca_row2_col8,#T_a82ca_row2_col9,#T_a82ca_row2_col10,#T_a82ca_row2_col11,#T_a82ca_row3_col0,#T_a82ca_row3_col1,#T_a82ca_row3_col2,#T_a82ca_row3_col3,#T_a82ca_row3_col4,#T_a82ca_row3_col5,#T_a82ca_row3_col6,#T_a82ca_row3_col7,#T_a82ca_row3_col8,#T_a82ca_row3_col9,#T_a82ca_row3_col10,#T_a82ca_row3_col11,#T_a82ca_row4_col0,#T_a82ca_row4_col1,#T_a82ca_row4_col2,#T_a82ca_row4_col3,#T_a82ca_row4_col4,#T_a82ca_row4_col5,#T_a82ca_row4_col6,#T_a82ca_row4_col7,#T_a82ca_row4_col8,#T_a82ca_row4_col9,#T_a82ca_row4_col10,#T_a82ca_row4_col11,#T_a82ca_row5_col0,#T_a82ca_row5_col1,#T_a82ca_row5_col2,#T_a82ca_row5_col3,#T_a82ca_row5_col4,#T_a82ca_row5_col5,#T_a82ca_row5_col6,#T_a82ca_row5_col7,#T_a82ca_row5_col8,#T_a82ca_row5_col9,#T_a82ca_row5_col10,#T_a82ca_row5_col11,#T_a82ca_row6_col0,#T_a82ca_row6_col1,#T_a82ca_row6_col2,#T_a82ca_row6_col3,#T_a82ca_row6_col4,#T_a82ca_row6_col5,#T_a82ca_row6_col6,#T_a82ca_row6_col7,#T_a82ca_row6_col8,#T_a82ca_row6_col9,#T_a82ca_row6_col10,#T_a82ca_row6_col11,#T_a82ca_row7_col0,#T_a82ca_row7_col1,#T_a82ca_row7_col2,#T_a82ca_row7_col3,#T_a82ca_row7_col4,#T_a82ca_row7_col5,#T_a82ca_row7_col6,#T_a82ca_row7_col7,#T_a82ca_row7_col8,#T_a82ca_row7_col9,#T_a82ca_row7_col10,#T_a82ca_row7_col11,#T_a82ca_row8_col0,#T_a82ca_row8_col1,#T_a82ca_row8_col2,#T_a82ca_row8_col3,#T_a82ca_row8_col4,#T_a82ca_row8_col5,#T_a82ca_row8_col6,#T_a82ca_row8_col7,#T_a82ca_row8_col8,#T_a82ca_row8_col9,#T_a82ca_row8_col10,#T_a82ca_row8_col11,#T_a82ca_row9_col0,#T_a82ca_row9_col1,#T_a82ca_row9_col2,#T_a82ca_row9_col3,#T_a82ca_row9_col4,#T_a82ca_row9_col5,#T_a82ca_row9_col6,#T_a82ca_row9_col7,#T_a82ca_row9_col8,#T_a82ca_row9_col9,#T_a82ca_row9_col10,#T_a82ca_row9_col11{\n",
       "            background-color:  #fffc99;\n",
       "            color:  black;\n",
       "            border-color:  black;\n",
       "        }</style><table id=\"T_a82ca_\" ><thead>    <tr>        <th class=\"blank level0\" ></th>        <th class=\"col_heading level0 col0\" >Year_Birth</th>        <th class=\"col_heading level0 col1\" >Education</th>        <th class=\"col_heading level0 col2\" >Marital_Status</th>        <th class=\"col_heading level0 col3\" >Income</th>        <th class=\"col_heading level0 col4\" >Dt_Customer</th>        <th class=\"col_heading level0 col5\" >Recency</th>        <th class=\"col_heading level0 col6\" >Complain</th>        <th class=\"col_heading level0 col7\" >Response</th>        <th class=\"col_heading level0 col8\" >Kids</th>        <th class=\"col_heading level0 col9\" >Expenses</th>        <th class=\"col_heading level0 col10\" >TotalAcceptedCmp</th>        <th class=\"col_heading level0 col11\" >NumTotalPurchases</th>    </tr></thead><tbody>\n",
       "                <tr>\n",
       "                        <th id=\"T_a82ca_level0_row0\" class=\"row_heading level0 row0\" >0</th>\n",
       "                        <td id=\"T_a82ca_row0_col0\" class=\"data row0 col0\" >1957</td>\n",
       "                        <td id=\"T_a82ca_row0_col1\" class=\"data row0 col1\" >Post Graduate</td>\n",
       "                        <td id=\"T_a82ca_row0_col2\" class=\"data row0 col2\" >Single</td>\n",
       "                        <td id=\"T_a82ca_row0_col3\" class=\"data row0 col3\" >58138.000000</td>\n",
       "                        <td id=\"T_a82ca_row0_col4\" class=\"data row0 col4\" >04-09-2012</td>\n",
       "                        <td id=\"T_a82ca_row0_col5\" class=\"data row0 col5\" >58</td>\n",
       "                        <td id=\"T_a82ca_row0_col6\" class=\"data row0 col6\" >0</td>\n",
       "                        <td id=\"T_a82ca_row0_col7\" class=\"data row0 col7\" >1</td>\n",
       "                        <td id=\"T_a82ca_row0_col8\" class=\"data row0 col8\" >0</td>\n",
       "                        <td id=\"T_a82ca_row0_col9\" class=\"data row0 col9\" >1617</td>\n",
       "                        <td id=\"T_a82ca_row0_col10\" class=\"data row0 col10\" >0</td>\n",
       "                        <td id=\"T_a82ca_row0_col11\" class=\"data row0 col11\" >25</td>\n",
       "            </tr>\n",
       "            <tr>\n",
       "                        <th id=\"T_a82ca_level0_row1\" class=\"row_heading level0 row1\" >1</th>\n",
       "                        <td id=\"T_a82ca_row1_col0\" class=\"data row1 col0\" >1954</td>\n",
       "                        <td id=\"T_a82ca_row1_col1\" class=\"data row1 col1\" >Post Graduate</td>\n",
       "                        <td id=\"T_a82ca_row1_col2\" class=\"data row1 col2\" >Single</td>\n",
       "                        <td id=\"T_a82ca_row1_col3\" class=\"data row1 col3\" >46344.000000</td>\n",
       "                        <td id=\"T_a82ca_row1_col4\" class=\"data row1 col4\" >08-03-2014</td>\n",
       "                        <td id=\"T_a82ca_row1_col5\" class=\"data row1 col5\" >38</td>\n",
       "                        <td id=\"T_a82ca_row1_col6\" class=\"data row1 col6\" >0</td>\n",
       "                        <td id=\"T_a82ca_row1_col7\" class=\"data row1 col7\" >0</td>\n",
       "                        <td id=\"T_a82ca_row1_col8\" class=\"data row1 col8\" >2</td>\n",
       "                        <td id=\"T_a82ca_row1_col9\" class=\"data row1 col9\" >27</td>\n",
       "                        <td id=\"T_a82ca_row1_col10\" class=\"data row1 col10\" >0</td>\n",
       "                        <td id=\"T_a82ca_row1_col11\" class=\"data row1 col11\" >6</td>\n",
       "            </tr>\n",
       "            <tr>\n",
       "                        <th id=\"T_a82ca_level0_row2\" class=\"row_heading level0 row2\" >2</th>\n",
       "                        <td id=\"T_a82ca_row2_col0\" class=\"data row2 col0\" >1965</td>\n",
       "                        <td id=\"T_a82ca_row2_col1\" class=\"data row2 col1\" >Post Graduate</td>\n",
       "                        <td id=\"T_a82ca_row2_col2\" class=\"data row2 col2\" >Relationship</td>\n",
       "                        <td id=\"T_a82ca_row2_col3\" class=\"data row2 col3\" >71613.000000</td>\n",
       "                        <td id=\"T_a82ca_row2_col4\" class=\"data row2 col4\" >21-08-2013</td>\n",
       "                        <td id=\"T_a82ca_row2_col5\" class=\"data row2 col5\" >26</td>\n",
       "                        <td id=\"T_a82ca_row2_col6\" class=\"data row2 col6\" >0</td>\n",
       "                        <td id=\"T_a82ca_row2_col7\" class=\"data row2 col7\" >0</td>\n",
       "                        <td id=\"T_a82ca_row2_col8\" class=\"data row2 col8\" >0</td>\n",
       "                        <td id=\"T_a82ca_row2_col9\" class=\"data row2 col9\" >776</td>\n",
       "                        <td id=\"T_a82ca_row2_col10\" class=\"data row2 col10\" >0</td>\n",
       "                        <td id=\"T_a82ca_row2_col11\" class=\"data row2 col11\" >21</td>\n",
       "            </tr>\n",
       "            <tr>\n",
       "                        <th id=\"T_a82ca_level0_row3\" class=\"row_heading level0 row3\" >3</th>\n",
       "                        <td id=\"T_a82ca_row3_col0\" class=\"data row3 col0\" >1984</td>\n",
       "                        <td id=\"T_a82ca_row3_col1\" class=\"data row3 col1\" >Post Graduate</td>\n",
       "                        <td id=\"T_a82ca_row3_col2\" class=\"data row3 col2\" >Relationship</td>\n",
       "                        <td id=\"T_a82ca_row3_col3\" class=\"data row3 col3\" >26646.000000</td>\n",
       "                        <td id=\"T_a82ca_row3_col4\" class=\"data row3 col4\" >10-02-2014</td>\n",
       "                        <td id=\"T_a82ca_row3_col5\" class=\"data row3 col5\" >26</td>\n",
       "                        <td id=\"T_a82ca_row3_col6\" class=\"data row3 col6\" >0</td>\n",
       "                        <td id=\"T_a82ca_row3_col7\" class=\"data row3 col7\" >0</td>\n",
       "                        <td id=\"T_a82ca_row3_col8\" class=\"data row3 col8\" >1</td>\n",
       "                        <td id=\"T_a82ca_row3_col9\" class=\"data row3 col9\" >53</td>\n",
       "                        <td id=\"T_a82ca_row3_col10\" class=\"data row3 col10\" >0</td>\n",
       "                        <td id=\"T_a82ca_row3_col11\" class=\"data row3 col11\" >8</td>\n",
       "            </tr>\n",
       "            <tr>\n",
       "                        <th id=\"T_a82ca_level0_row4\" class=\"row_heading level0 row4\" >4</th>\n",
       "                        <td id=\"T_a82ca_row4_col0\" class=\"data row4 col0\" >1981</td>\n",
       "                        <td id=\"T_a82ca_row4_col1\" class=\"data row4 col1\" >Post Graduate</td>\n",
       "                        <td id=\"T_a82ca_row4_col2\" class=\"data row4 col2\" >Relationship</td>\n",
       "                        <td id=\"T_a82ca_row4_col3\" class=\"data row4 col3\" >58293.000000</td>\n",
       "                        <td id=\"T_a82ca_row4_col4\" class=\"data row4 col4\" >19-01-2014</td>\n",
       "                        <td id=\"T_a82ca_row4_col5\" class=\"data row4 col5\" >94</td>\n",
       "                        <td id=\"T_a82ca_row4_col6\" class=\"data row4 col6\" >0</td>\n",
       "                        <td id=\"T_a82ca_row4_col7\" class=\"data row4 col7\" >0</td>\n",
       "                        <td id=\"T_a82ca_row4_col8\" class=\"data row4 col8\" >1</td>\n",
       "                        <td id=\"T_a82ca_row4_col9\" class=\"data row4 col9\" >422</td>\n",
       "                        <td id=\"T_a82ca_row4_col10\" class=\"data row4 col10\" >0</td>\n",
       "                        <td id=\"T_a82ca_row4_col11\" class=\"data row4 col11\" >19</td>\n",
       "            </tr>\n",
       "            <tr>\n",
       "                        <th id=\"T_a82ca_level0_row5\" class=\"row_heading level0 row5\" >5</th>\n",
       "                        <td id=\"T_a82ca_row5_col0\" class=\"data row5 col0\" >1967</td>\n",
       "                        <td id=\"T_a82ca_row5_col1\" class=\"data row5 col1\" >Post Graduate</td>\n",
       "                        <td id=\"T_a82ca_row5_col2\" class=\"data row5 col2\" >Relationship</td>\n",
       "                        <td id=\"T_a82ca_row5_col3\" class=\"data row5 col3\" >62513.000000</td>\n",
       "                        <td id=\"T_a82ca_row5_col4\" class=\"data row5 col4\" >09-09-2013</td>\n",
       "                        <td id=\"T_a82ca_row5_col5\" class=\"data row5 col5\" >16</td>\n",
       "                        <td id=\"T_a82ca_row5_col6\" class=\"data row5 col6\" >0</td>\n",
       "                        <td id=\"T_a82ca_row5_col7\" class=\"data row5 col7\" >0</td>\n",
       "                        <td id=\"T_a82ca_row5_col8\" class=\"data row5 col8\" >1</td>\n",
       "                        <td id=\"T_a82ca_row5_col9\" class=\"data row5 col9\" >716</td>\n",
       "                        <td id=\"T_a82ca_row5_col10\" class=\"data row5 col10\" >0</td>\n",
       "                        <td id=\"T_a82ca_row5_col11\" class=\"data row5 col11\" >22</td>\n",
       "            </tr>\n",
       "            <tr>\n",
       "                        <th id=\"T_a82ca_level0_row6\" class=\"row_heading level0 row6\" >6</th>\n",
       "                        <td id=\"T_a82ca_row6_col0\" class=\"data row6 col0\" >1971</td>\n",
       "                        <td id=\"T_a82ca_row6_col1\" class=\"data row6 col1\" >Post Graduate</td>\n",
       "                        <td id=\"T_a82ca_row6_col2\" class=\"data row6 col2\" >Single</td>\n",
       "                        <td id=\"T_a82ca_row6_col3\" class=\"data row6 col3\" >55635.000000</td>\n",
       "                        <td id=\"T_a82ca_row6_col4\" class=\"data row6 col4\" >13-11-2012</td>\n",
       "                        <td id=\"T_a82ca_row6_col5\" class=\"data row6 col5\" >34</td>\n",
       "                        <td id=\"T_a82ca_row6_col6\" class=\"data row6 col6\" >0</td>\n",
       "                        <td id=\"T_a82ca_row6_col7\" class=\"data row6 col7\" >0</td>\n",
       "                        <td id=\"T_a82ca_row6_col8\" class=\"data row6 col8\" >1</td>\n",
       "                        <td id=\"T_a82ca_row6_col9\" class=\"data row6 col9\" >590</td>\n",
       "                        <td id=\"T_a82ca_row6_col10\" class=\"data row6 col10\" >0</td>\n",
       "                        <td id=\"T_a82ca_row6_col11\" class=\"data row6 col11\" >21</td>\n",
       "            </tr>\n",
       "            <tr>\n",
       "                        <th id=\"T_a82ca_level0_row7\" class=\"row_heading level0 row7\" >7</th>\n",
       "                        <td id=\"T_a82ca_row7_col0\" class=\"data row7 col0\" >1985</td>\n",
       "                        <td id=\"T_a82ca_row7_col1\" class=\"data row7 col1\" >Post Graduate</td>\n",
       "                        <td id=\"T_a82ca_row7_col2\" class=\"data row7 col2\" >Relationship</td>\n",
       "                        <td id=\"T_a82ca_row7_col3\" class=\"data row7 col3\" >33454.000000</td>\n",
       "                        <td id=\"T_a82ca_row7_col4\" class=\"data row7 col4\" >08-05-2013</td>\n",
       "                        <td id=\"T_a82ca_row7_col5\" class=\"data row7 col5\" >32</td>\n",
       "                        <td id=\"T_a82ca_row7_col6\" class=\"data row7 col6\" >0</td>\n",
       "                        <td id=\"T_a82ca_row7_col7\" class=\"data row7 col7\" >0</td>\n",
       "                        <td id=\"T_a82ca_row7_col8\" class=\"data row7 col8\" >1</td>\n",
       "                        <td id=\"T_a82ca_row7_col9\" class=\"data row7 col9\" >169</td>\n",
       "                        <td id=\"T_a82ca_row7_col10\" class=\"data row7 col10\" >0</td>\n",
       "                        <td id=\"T_a82ca_row7_col11\" class=\"data row7 col11\" >10</td>\n",
       "            </tr>\n",
       "            <tr>\n",
       "                        <th id=\"T_a82ca_level0_row8\" class=\"row_heading level0 row8\" >8</th>\n",
       "                        <td id=\"T_a82ca_row8_col0\" class=\"data row8 col0\" >1974</td>\n",
       "                        <td id=\"T_a82ca_row8_col1\" class=\"data row8 col1\" >Post Graduate</td>\n",
       "                        <td id=\"T_a82ca_row8_col2\" class=\"data row8 col2\" >Relationship</td>\n",
       "                        <td id=\"T_a82ca_row8_col3\" class=\"data row8 col3\" >30351.000000</td>\n",
       "                        <td id=\"T_a82ca_row8_col4\" class=\"data row8 col4\" >06-06-2013</td>\n",
       "                        <td id=\"T_a82ca_row8_col5\" class=\"data row8 col5\" >19</td>\n",
       "                        <td id=\"T_a82ca_row8_col6\" class=\"data row8 col6\" >0</td>\n",
       "                        <td id=\"T_a82ca_row8_col7\" class=\"data row8 col7\" >1</td>\n",
       "                        <td id=\"T_a82ca_row8_col8\" class=\"data row8 col8\" >1</td>\n",
       "                        <td id=\"T_a82ca_row8_col9\" class=\"data row8 col9\" >46</td>\n",
       "                        <td id=\"T_a82ca_row8_col10\" class=\"data row8 col10\" >0</td>\n",
       "                        <td id=\"T_a82ca_row8_col11\" class=\"data row8 col11\" >6</td>\n",
       "            </tr>\n",
       "            <tr>\n",
       "                        <th id=\"T_a82ca_level0_row9\" class=\"row_heading level0 row9\" >9</th>\n",
       "                        <td id=\"T_a82ca_row9_col0\" class=\"data row9 col0\" >1950</td>\n",
       "                        <td id=\"T_a82ca_row9_col1\" class=\"data row9 col1\" >Post Graduate</td>\n",
       "                        <td id=\"T_a82ca_row9_col2\" class=\"data row9 col2\" >Relationship</td>\n",
       "                        <td id=\"T_a82ca_row9_col3\" class=\"data row9 col3\" >5648.000000</td>\n",
       "                        <td id=\"T_a82ca_row9_col4\" class=\"data row9 col4\" >13-03-2014</td>\n",
       "                        <td id=\"T_a82ca_row9_col5\" class=\"data row9 col5\" >68</td>\n",
       "                        <td id=\"T_a82ca_row9_col6\" class=\"data row9 col6\" >0</td>\n",
       "                        <td id=\"T_a82ca_row9_col7\" class=\"data row9 col7\" >0</td>\n",
       "                        <td id=\"T_a82ca_row9_col8\" class=\"data row9 col8\" >2</td>\n",
       "                        <td id=\"T_a82ca_row9_col9\" class=\"data row9 col9\" >49</td>\n",
       "                        <td id=\"T_a82ca_row9_col10\" class=\"data row9 col10\" >1</td>\n",
       "                        <td id=\"T_a82ca_row9_col11\" class=\"data row9 col11\" >2</td>\n",
       "            </tr>\n",
       "    </tbody></table>"
      ],
      "text/plain": [
       "<pandas.io.formats.style.Styler at 0x270705a9640>"
      ]
     },
     "execution_count": 23,
     "metadata": {},
     "output_type": "execute_result"
    }
   ],
   "source": [
    "# Deleting some column to reduce dimension and complexity of model\n",
    "\n",
    "col_del = [\"ID\",\"AcceptedCmp1\" , \"AcceptedCmp2\", \"AcceptedCmp3\" , \"AcceptedCmp4\",\"AcceptedCmp5\",\"NumWebVisitsMonth\", \"NumWebPurchases\",\"NumCatalogPurchases\",\"NumStorePurchases\",\"NumDealsPurchases\" , \"Kidhome\", \"Teenhome\",\"MntWines\", \"MntFruits\", \"MntMeatProducts\", \"MntFishProducts\", \"MntSweetProducts\", \"MntGoldProds\"]\n",
    "df=df.drop(columns=col_del,axis=1)\n",
    "df.head(10).style.set_properties(**{\"background-color\": \"#fffc99\",\"color\": \"black\", \"border-color\": \"black\"})"
   ]
  },
  {
   "cell_type": "code",
   "execution_count": 24,
   "id": "ab446f5d",
   "metadata": {},
   "outputs": [
    {
     "name": "stdout",
     "output_type": "stream",
     "text": [
      "Year_Birth\n",
      "Education\n",
      "Marital_Status\n",
      "Income\n",
      "Dt_Customer\n",
      "Recency\n",
      "Complain\n",
      "Response\n",
      "Kids\n",
      "Expenses\n",
      "TotalAcceptedCmp\n",
      "NumTotalPurchases\n"
     ]
    }
   ],
   "source": [
    "x = df.columns \n",
    "for i in x:\n",
    "     print(i)"
   ]
  },
  {
   "cell_type": "code",
   "execution_count": 25,
   "id": "7b079b42",
   "metadata": {},
   "outputs": [],
   "source": [
    "#NUMBER OF DAYS A CUSTOMER WAS ENGAGED WITH COMPANY...... \n",
    "#CHANGING \"Dt_customer\" into timestamp format......\n",
    "\n",
    "df['Dt_Customer'] = pd.to_datetime(df.Dt_Customer)\n",
    "df['First_day'] = '01-01-2015'\n",
    "df['First_day'] = pd.to_datetime(df.First_day)\n",
    "df['Day_engaged'] = (df['First_day'] - df['Dt_Customer']).dt.days"
   ]
  },
  {
   "cell_type": "code",
   "execution_count": 26,
   "id": "28cc66d1",
   "metadata": {},
   "outputs": [
    {
     "name": "stdout",
     "output_type": "stream",
     "text": [
      "Unique categories present in the Age: 8    1189\n",
      "7     557\n",
      "9     494\n",
      "Name: Age, dtype: int64\n",
      "\n",
      "\n"
     ]
    }
   ],
   "source": [
    "#ADDING A COLUMN \"Age\" IN THE DATAFRAME....\n",
    "df['Age'] = (pd.Timestamp('now').year) - (pd.to_datetime(df['Dt_Customer']).dt.year)\n",
    "\n",
    "#CHECKING NUMBER OF UNIQUE CATEGORIES PRESENT IN THE \"Age\"\n",
    "print(\"Unique categories present in the Age:\",df['Age'].value_counts())\n",
    "print(\"\\n\")"
   ]
  },
  {
   "cell_type": "code",
   "execution_count": 27,
   "id": "fecc4ac5",
   "metadata": {},
   "outputs": [],
   "source": [
    "df=df.drop(columns=[\"Dt_Customer\", \"First_day\", \"Year_Birth\", \"Dt_Customer\", \"Recency\", \"Complain\",\"Response\"],axis=1)\n"
   ]
  },
  {
   "cell_type": "code",
   "execution_count": 28,
   "id": "f6512bc1",
   "metadata": {},
   "outputs": [],
   "source": [
    "#REARRANGE THE ORDER OF COLUMNS:-\n",
    "order = [0,1,3,4,6,7,8,2,5]\n",
    "df = df[[df.columns[i] for i in order]]"
   ]
  },
  {
   "cell_type": "code",
   "execution_count": 29,
   "id": "04eb75ac",
   "metadata": {},
   "outputs": [
    {
     "data": {
      "text/plain": [
       "(2240, 9)"
      ]
     },
     "execution_count": 29,
     "metadata": {},
     "output_type": "execute_result"
    }
   ],
   "source": [
    "df.shape"
   ]
  },
  {
   "cell_type": "markdown",
   "id": "4bfe6e4c",
   "metadata": {},
   "source": [
    "# Finding the correlation"
   ]
  },
  {
   "cell_type": "code",
   "execution_count": 30,
   "id": "8f62b559",
   "metadata": {},
   "outputs": [
    {
     "data": {
      "text/plain": [
       "<AxesSubplot:>"
      ]
     },
     "execution_count": 30,
     "metadata": {},
     "output_type": "execute_result"
    },
    {
     "data": {
      "image/png": "[encoded data removed]",
      "text/plain": [
       "<Figure size 720x576 with 2 Axes>"
      ]
     },
     "metadata": {
      "needs_background": "light"
     },
     "output_type": "display_data"
    }
   ],
   "source": [
    "plt.figure(figsize=(10,8))\n",
    "sns.heatmap(df.corr(), annot=True,cmap = 'YlGnBu',linewidths=1)"
   ]
  },
  {
   "cell_type": "code",
   "execution_count": 31,
   "id": "6b25c699",
   "metadata": {},
   "outputs": [
    {
     "name": "stdout",
     "output_type": "stream",
     "text": [
      "<class 'pandas.core.frame.DataFrame'>\n",
      "RangeIndex: 2240 entries, 0 to 2239\n",
      "Data columns (total 9 columns):\n",
      " #   Column             Non-Null Count  Dtype  \n",
      "---  ------             --------------  -----  \n",
      " 0   Education          2240 non-null   object \n",
      " 1   Marital_Status     2240 non-null   object \n",
      " 2   Kids               2240 non-null   int64  \n",
      " 3   Expenses           2240 non-null   int64  \n",
      " 4   NumTotalPurchases  2240 non-null   int64  \n",
      " 5   Day_engaged        2240 non-null   int64  \n",
      " 6   Age                2240 non-null   int64  \n",
      " 7   Income             2240 non-null   float64\n",
      " 8   TotalAcceptedCmp   2240 non-null   int64  \n",
      "dtypes: float64(1), int64(6), object(2)\n",
      "memory usage: 157.6+ KB\n"
     ]
    }
   ],
   "source": [
    "df.info()"
   ]
  },
  {
   "cell_type": "code",
   "execution_count": 32,
   "id": "7ac716c0",
   "metadata": {},
   "outputs": [
    {
     "name": "stdout",
     "output_type": "stream",
     "text": [
      "<class 'pandas.core.frame.DataFrame'>\n",
      "\n",
      "\n",
      "   Kids  Expenses  NumTotalPurchases  Day_engaged  Age   Income  \\\n",
      "0     0      1617                 25          997    9  58138.0   \n",
      "1     2        27                  6          151    7  46344.0   \n",
      "2     0       776                 21          498    8  71613.0   \n",
      "3     1        53                  8           91    7  26646.0   \n",
      "4     1       422                 19          347    7  58293.0   \n",
      "\n",
      "   TotalAcceptedCmp  \n",
      "0                 0  \n",
      "1                 0  \n",
      "2                 0  \n",
      "3                 0  \n",
      "4                 0  \n"
     ]
    }
   ],
   "source": [
    "cont_features = df.iloc[:, 2:9] #from Z_Cost to Kids\n",
    "print(type(cont_features))\n",
    "print('\\n')\n",
    "print(cont_features.head())"
   ]
  },
  {
   "cell_type": "code",
   "execution_count": 33,
   "id": "dca6a448",
   "metadata": {},
   "outputs": [
    {
     "data": {
      "text/html": [
       "<div>\n",
       "<style scoped>\n",
       "    .dataframe tbody tr th:only-of-type {\n",
       "        vertical-align: middle;\n",
       "    }\n",
       "\n",
       "    .dataframe tbody tr th {\n",
       "        vertical-align: top;\n",
       "    }\n",
       "\n",
       "    .dataframe thead th {\n",
       "        text-align: right;\n",
       "    }\n",
       "</style>\n",
       "<table border=\"1\" class=\"dataframe\">\n",
       "  <thead>\n",
       "    <tr style=\"text-align: right;\">\n",
       "      <th></th>\n",
       "      <th>Kids</th>\n",
       "      <th>Expenses</th>\n",
       "      <th>NumTotalPurchases</th>\n",
       "      <th>Day_engaged</th>\n",
       "      <th>Age</th>\n",
       "      <th>Income</th>\n",
       "      <th>TotalAcceptedCmp</th>\n",
       "    </tr>\n",
       "  </thead>\n",
       "  <tbody>\n",
       "    <tr>\n",
       "      <th>0</th>\n",
       "      <td>0</td>\n",
       "      <td>1617</td>\n",
       "      <td>25</td>\n",
       "      <td>997</td>\n",
       "      <td>9</td>\n",
       "      <td>58138.0</td>\n",
       "      <td>0</td>\n",
       "    </tr>\n",
       "    <tr>\n",
       "      <th>1</th>\n",
       "      <td>2</td>\n",
       "      <td>27</td>\n",
       "      <td>6</td>\n",
       "      <td>151</td>\n",
       "      <td>7</td>\n",
       "      <td>46344.0</td>\n",
       "      <td>0</td>\n",
       "    </tr>\n",
       "    <tr>\n",
       "      <th>2</th>\n",
       "      <td>0</td>\n",
       "      <td>776</td>\n",
       "      <td>21</td>\n",
       "      <td>498</td>\n",
       "      <td>8</td>\n",
       "      <td>71613.0</td>\n",
       "      <td>0</td>\n",
       "    </tr>\n",
       "    <tr>\n",
       "      <th>3</th>\n",
       "      <td>1</td>\n",
       "      <td>53</td>\n",
       "      <td>8</td>\n",
       "      <td>91</td>\n",
       "      <td>7</td>\n",
       "      <td>26646.0</td>\n",
       "      <td>0</td>\n",
       "    </tr>\n",
       "    <tr>\n",
       "      <th>4</th>\n",
       "      <td>1</td>\n",
       "      <td>422</td>\n",
       "      <td>19</td>\n",
       "      <td>347</td>\n",
       "      <td>7</td>\n",
       "      <td>58293.0</td>\n",
       "      <td>0</td>\n",
       "    </tr>\n",
       "    <tr>\n",
       "      <th>...</th>\n",
       "      <td>...</td>\n",
       "      <td>...</td>\n",
       "      <td>...</td>\n",
       "      <td>...</td>\n",
       "      <td>...</td>\n",
       "      <td>...</td>\n",
       "      <td>...</td>\n",
       "    </tr>\n",
       "    <tr>\n",
       "      <th>2235</th>\n",
       "      <td>1</td>\n",
       "      <td>1341</td>\n",
       "      <td>18</td>\n",
       "      <td>567</td>\n",
       "      <td>8</td>\n",
       "      <td>61223.0</td>\n",
       "      <td>0</td>\n",
       "    </tr>\n",
       "    <tr>\n",
       "      <th>2236</th>\n",
       "      <td>3</td>\n",
       "      <td>444</td>\n",
       "      <td>22</td>\n",
       "      <td>87</td>\n",
       "      <td>7</td>\n",
       "      <td>64014.0</td>\n",
       "      <td>1</td>\n",
       "    </tr>\n",
       "    <tr>\n",
       "      <th>2237</th>\n",
       "      <td>0</td>\n",
       "      <td>1241</td>\n",
       "      <td>19</td>\n",
       "      <td>341</td>\n",
       "      <td>7</td>\n",
       "      <td>56981.0</td>\n",
       "      <td>1</td>\n",
       "    </tr>\n",
       "    <tr>\n",
       "      <th>2238</th>\n",
       "      <td>1</td>\n",
       "      <td>843</td>\n",
       "      <td>23</td>\n",
       "      <td>342</td>\n",
       "      <td>7</td>\n",
       "      <td>69245.0</td>\n",
       "      <td>0</td>\n",
       "    </tr>\n",
       "    <tr>\n",
       "      <th>2239</th>\n",
       "      <td>2</td>\n",
       "      <td>172</td>\n",
       "      <td>11</td>\n",
       "      <td>808</td>\n",
       "      <td>9</td>\n",
       "      <td>52869.0</td>\n",
       "      <td>0</td>\n",
       "    </tr>\n",
       "  </tbody>\n",
       "</table>\n",
       "<p>2240 rows × 7 columns</p>\n",
       "</div>"
      ],
      "text/plain": [
       "      Kids  Expenses  NumTotalPurchases  Day_engaged  Age   Income  \\\n",
       "0        0      1617                 25          997    9  58138.0   \n",
       "1        2        27                  6          151    7  46344.0   \n",
       "2        0       776                 21          498    8  71613.0   \n",
       "3        1        53                  8           91    7  26646.0   \n",
       "4        1       422                 19          347    7  58293.0   \n",
       "...    ...       ...                ...          ...  ...      ...   \n",
       "2235     1      1341                 18          567    8  61223.0   \n",
       "2236     3       444                 22           87    7  64014.0   \n",
       "2237     0      1241                 19          341    7  56981.0   \n",
       "2238     1       843                 23          342    7  69245.0   \n",
       "2239     2       172                 11          808    9  52869.0   \n",
       "\n",
       "      TotalAcceptedCmp  \n",
       "0                    0  \n",
       "1                    0  \n",
       "2                    0  \n",
       "3                    0  \n",
       "4                    0  \n",
       "...                ...  \n",
       "2235                 0  \n",
       "2236                 1  \n",
       "2237                 1  \n",
       "2238                 0  \n",
       "2239                 0  \n",
       "\n",
       "[2240 rows x 7 columns]"
      ]
     },
     "execution_count": 33,
     "metadata": {},
     "output_type": "execute_result"
    }
   ],
   "source": [
    "cont_features"
   ]
  },
  {
   "cell_type": "code",
   "execution_count": 34,
   "id": "9287c1bd",
   "metadata": {},
   "outputs": [
    {
     "data": {
      "image/png": "[encoded data removed]",
      "text/plain": [
       "<Figure size 864x576 with 1 Axes>"
      ]
     },
     "metadata": {},
     "output_type": "display_data"
    }
   ],
   "source": [
    "import matplotlib\n",
    "background_color = \"#f6f5f5\"\n",
    "\n",
    "fig = plt.figure(figsize=(12, 8), facecolor=background_color)\n",
    "gs = fig.add_gridspec(1, 1)\n",
    "ax0 = fig.add_subplot(gs[0, 0])\n",
    "colors = [\"#2f5586\", \"#f6f5f5\",\"#2f5586\"]\n",
    "colormap = matplotlib.colors.LinearSegmentedColormap.from_list(\"\", colors)\n",
    "\n",
    "ax0.set_facecolor(background_color)\n",
    "ax0.text(-1.1, 1.25, 'Correlation of Continuous Features with Target', fontsize=20, fontweight='bold')\n",
    "\n",
    "chart_df = pd.DataFrame(cont_features.corrwith(df['Expenses']))\n",
    "chart_df.columns = ['corr']\n",
    "sns.barplot(x=chart_df.index, y=chart_df['corr'], ax=ax0, color='mediumblue', zorder=3, edgecolor='black', linewidth=2)\n",
    "ax0.grid(which='major', axis='x', zorder=0, color='#EEEEEE', linewidth=0.4)\n",
    "ax0.grid(which='major', axis='y', zorder=0, color='#EEEEEE', linewidth=0.4)\n",
    "ax0.set_ylabel('')\n",
    "\n",
    "for s in [\"top\",\"right\", 'left']:\n",
    "    ax0.spines[s].set_visible(False)\n",
    "\n",
    "plt.show()"
   ]
  },
  {
   "cell_type": "markdown",
   "id": "f56c803e",
   "metadata": {},
   "source": [
    "Observation\n",
    "*Highest correlation between features is 0.7.\n",
    "*There is no continuous features that has correlation with Expenses below 0.7 and above 0.15.\n",
    "*Day_engaged and Age has the lowest correlation with expenses,almost reaching 0.14 while NumTotalPurchases has the highest correlation with the expenses."
   ]
  },
  {
   "cell_type": "code",
   "execution_count": 35,
   "id": "ac8b738e",
   "metadata": {},
   "outputs": [
    {
     "data": {
      "text/plain": [
       "Education             object\n",
       "Marital_Status        object\n",
       "Kids                   int64\n",
       "Expenses               int64\n",
       "NumTotalPurchases      int64\n",
       "Day_engaged            int64\n",
       "Age                    int64\n",
       "Income               float64\n",
       "TotalAcceptedCmp       int64\n",
       "dtype: object"
      ]
     },
     "execution_count": 35,
     "metadata": {},
     "output_type": "execute_result"
    }
   ],
   "source": [
    "df.dtypes"
   ]
  },
  {
   "cell_type": "code",
   "execution_count": 36,
   "id": "6c252f97",
   "metadata": {},
   "outputs": [
    {
     "name": "stdout",
     "output_type": "stream",
     "text": [
      " Object are: ['Education', 'Marital_Status']\n"
     ]
    }
   ],
   "source": [
    "cate = []\n",
    "for i in df.columns:\n",
    "    if (df[i].dtypes == \"object\"):\n",
    "        cate.append(i)\n",
    "\n",
    "print(\" Object are:\",cate)"
   ]
  },
  {
   "cell_type": "code",
   "execution_count": 37,
   "id": "6f93f728",
   "metadata": {},
   "outputs": [
    {
     "name": "stdout",
     "output_type": "stream",
     "text": [
      " Integers are: ['Kids', 'Expenses', 'NumTotalPurchases', 'Day_engaged', 'Age', 'TotalAcceptedCmp']\n"
     ]
    }
   ],
   "source": [
    "Int = []\n",
    "for i in df.columns:\n",
    "    if (df[i].dtypes == \"int64\"):\n",
    "        Int.append(i)\n",
    "\n",
    "print(\" Integers are:\",Int)"
   ]
  },
  {
   "cell_type": "code",
   "execution_count": 38,
   "id": "ffc9c09d",
   "metadata": {},
   "outputs": [
    {
     "name": "stdout",
     "output_type": "stream",
     "text": [
      "Float are: ['Income']\n"
     ]
    }
   ],
   "source": [
    "Float = []\n",
    "for i in df.columns:\n",
    "    if (df[i].dtypes == \"float64\"):\n",
    "        Float.append(i)\n",
    "\n",
    "print(\"Float are:\",Float)"
   ]
  },
  {
   "cell_type": "code",
   "execution_count": 39,
   "id": "ca253bad",
   "metadata": {},
   "outputs": [],
   "source": [
    "from sklearn.preprocessing import LabelEncoder\n",
    "lbl_encode = LabelEncoder()\n",
    "for i in cate:\n",
    "    df[i]=df[[i]].apply(lbl_encode.fit_transform)"
   ]
  },
  {
   "cell_type": "code",
   "execution_count": 40,
   "id": "d4cea4f9",
   "metadata": {},
   "outputs": [],
   "source": [
    "df1 = df.copy()"
   ]
  },
  {
   "cell_type": "code",
   "execution_count": 41,
   "id": "e5f91038",
   "metadata": {},
   "outputs": [],
   "source": [
    "from sklearn.preprocessing import StandardScaler\n",
    "scaled_features = StandardScaler().fit_transform(df1.values)\n",
    "sf_df = pd.DataFrame(scaled_features, index=df1.index, columns=df1.columns)"
   ]
  },
  {
   "cell_type": "code",
   "execution_count": 42,
   "id": "f027f470",
   "metadata": {},
   "outputs": [
    {
     "name": "stdout",
     "output_type": "stream",
     "text": [
      "[[ 0.23569584  1.67941681]\n",
      " [-0.23545419 -0.96127545]\n",
      " [ 0.77399892  0.28267329]\n",
      " ...\n",
      " [ 0.18947568  1.05495122]\n",
      " [ 0.67940139  0.39394775]\n",
      " [ 0.02520835 -0.7204576 ]]\n"
     ]
    }
   ],
   "source": [
    "X = sf_df.iloc[:, [7, 3]].values\n",
    "print(X)"
   ]
  },
  {
   "cell_type": "code",
   "execution_count": 43,
   "id": "c6a537ef",
   "metadata": {},
   "outputs": [
    {
     "data": {
      "text/html": [
       "<div>\n",
       "<style scoped>\n",
       "    .dataframe tbody tr th:only-of-type {\n",
       "        vertical-align: middle;\n",
       "    }\n",
       "\n",
       "    .dataframe tbody tr th {\n",
       "        vertical-align: top;\n",
       "    }\n",
       "\n",
       "    .dataframe thead th {\n",
       "        text-align: right;\n",
       "    }\n",
       "</style>\n",
       "<table border=\"1\" class=\"dataframe\">\n",
       "  <thead>\n",
       "    <tr style=\"text-align: right;\">\n",
       "      <th></th>\n",
       "      <th>Education</th>\n",
       "      <th>Marital_Status</th>\n",
       "      <th>Kids</th>\n",
       "      <th>Expenses</th>\n",
       "      <th>NumTotalPurchases</th>\n",
       "      <th>Day_engaged</th>\n",
       "      <th>Age</th>\n",
       "      <th>Income</th>\n",
       "      <th>TotalAcceptedCmp</th>\n",
       "    </tr>\n",
       "  </thead>\n",
       "  <tbody>\n",
       "    <tr>\n",
       "      <th>0</th>\n",
       "      <td>-0.157171</td>\n",
       "      <td>1.346874</td>\n",
       "      <td>-1.264505</td>\n",
       "      <td>1.679417</td>\n",
       "      <td>1.320826</td>\n",
       "      <td>1.976745</td>\n",
       "      <td>1.502225</td>\n",
       "      <td>0.235696</td>\n",
       "      <td>-0.439037</td>\n",
       "    </tr>\n",
       "    <tr>\n",
       "      <th>1</th>\n",
       "      <td>-0.157171</td>\n",
       "      <td>1.346874</td>\n",
       "      <td>1.396361</td>\n",
       "      <td>-0.961275</td>\n",
       "      <td>-1.154596</td>\n",
       "      <td>-1.667011</td>\n",
       "      <td>-1.420036</td>\n",
       "      <td>-0.235454</td>\n",
       "      <td>-0.439037</td>\n",
       "    </tr>\n",
       "    <tr>\n",
       "      <th>2</th>\n",
       "      <td>-0.157171</td>\n",
       "      <td>-0.742460</td>\n",
       "      <td>-1.264505</td>\n",
       "      <td>0.282673</td>\n",
       "      <td>0.799685</td>\n",
       "      <td>-0.172468</td>\n",
       "      <td>0.041094</td>\n",
       "      <td>0.773999</td>\n",
       "      <td>-0.439037</td>\n",
       "    </tr>\n",
       "    <tr>\n",
       "      <th>3</th>\n",
       "      <td>-0.157171</td>\n",
       "      <td>-0.742460</td>\n",
       "      <td>0.065928</td>\n",
       "      <td>-0.918094</td>\n",
       "      <td>-0.894025</td>\n",
       "      <td>-1.925433</td>\n",
       "      <td>-1.420036</td>\n",
       "      <td>-1.022355</td>\n",
       "      <td>-0.439037</td>\n",
       "    </tr>\n",
       "    <tr>\n",
       "      <th>4</th>\n",
       "      <td>-0.157171</td>\n",
       "      <td>-0.742460</td>\n",
       "      <td>0.065928</td>\n",
       "      <td>-0.305254</td>\n",
       "      <td>0.539114</td>\n",
       "      <td>-0.822831</td>\n",
       "      <td>-1.420036</td>\n",
       "      <td>0.241888</td>\n",
       "      <td>-0.439037</td>\n",
       "    </tr>\n",
       "    <tr>\n",
       "      <th>...</th>\n",
       "      <td>...</td>\n",
       "      <td>...</td>\n",
       "      <td>...</td>\n",
       "      <td>...</td>\n",
       "      <td>...</td>\n",
       "      <td>...</td>\n",
       "      <td>...</td>\n",
       "      <td>...</td>\n",
       "      <td>...</td>\n",
       "    </tr>\n",
       "    <tr>\n",
       "      <th>2235</th>\n",
       "      <td>-0.157171</td>\n",
       "      <td>-0.742460</td>\n",
       "      <td>0.065928</td>\n",
       "      <td>1.221032</td>\n",
       "      <td>0.408829</td>\n",
       "      <td>0.124718</td>\n",
       "      <td>0.041094</td>\n",
       "      <td>0.358936</td>\n",
       "      <td>-0.439037</td>\n",
       "    </tr>\n",
       "    <tr>\n",
       "      <th>2236</th>\n",
       "      <td>-0.157171</td>\n",
       "      <td>-0.742460</td>\n",
       "      <td>2.726794</td>\n",
       "      <td>-0.268717</td>\n",
       "      <td>0.929970</td>\n",
       "      <td>-1.942661</td>\n",
       "      <td>-1.420036</td>\n",
       "      <td>0.470432</td>\n",
       "      <td>1.035390</td>\n",
       "    </tr>\n",
       "    <tr>\n",
       "      <th>2237</th>\n",
       "      <td>-0.157171</td>\n",
       "      <td>1.346874</td>\n",
       "      <td>-1.264505</td>\n",
       "      <td>1.054951</td>\n",
       "      <td>0.539114</td>\n",
       "      <td>-0.848673</td>\n",
       "      <td>-1.420036</td>\n",
       "      <td>0.189476</td>\n",
       "      <td>1.035390</td>\n",
       "    </tr>\n",
       "    <tr>\n",
       "      <th>2238</th>\n",
       "      <td>-0.157171</td>\n",
       "      <td>-0.742460</td>\n",
       "      <td>0.065928</td>\n",
       "      <td>0.393948</td>\n",
       "      <td>1.060255</td>\n",
       "      <td>-0.844366</td>\n",
       "      <td>-1.420036</td>\n",
       "      <td>0.679401</td>\n",
       "      <td>-0.439037</td>\n",
       "    </tr>\n",
       "    <tr>\n",
       "      <th>2239</th>\n",
       "      <td>-0.157171</td>\n",
       "      <td>-0.742460</td>\n",
       "      <td>1.396361</td>\n",
       "      <td>-0.720458</td>\n",
       "      <td>-0.503169</td>\n",
       "      <td>1.162714</td>\n",
       "      <td>1.502225</td>\n",
       "      <td>0.025208</td>\n",
       "      <td>-0.439037</td>\n",
       "    </tr>\n",
       "  </tbody>\n",
       "</table>\n",
       "<p>2240 rows × 9 columns</p>\n",
       "</div>"
      ],
      "text/plain": [
       "      Education  Marital_Status      Kids  Expenses  NumTotalPurchases  \\\n",
       "0     -0.157171        1.346874 -1.264505  1.679417           1.320826   \n",
       "1     -0.157171        1.346874  1.396361 -0.961275          -1.154596   \n",
       "2     -0.157171       -0.742460 -1.264505  0.282673           0.799685   \n",
       "3     -0.157171       -0.742460  0.065928 -0.918094          -0.894025   \n",
       "4     -0.157171       -0.742460  0.065928 -0.305254           0.539114   \n",
       "...         ...             ...       ...       ...                ...   \n",
       "2235  -0.157171       -0.742460  0.065928  1.221032           0.408829   \n",
       "2236  -0.157171       -0.742460  2.726794 -0.268717           0.929970   \n",
       "2237  -0.157171        1.346874 -1.264505  1.054951           0.539114   \n",
       "2238  -0.157171       -0.742460  0.065928  0.393948           1.060255   \n",
       "2239  -0.157171       -0.742460  1.396361 -0.720458          -0.503169   \n",
       "\n",
       "      Day_engaged       Age    Income  TotalAcceptedCmp  \n",
       "0        1.976745  1.502225  0.235696         -0.439037  \n",
       "1       -1.667011 -1.420036 -0.235454         -0.439037  \n",
       "2       -0.172468  0.041094  0.773999         -0.439037  \n",
       "3       -1.925433 -1.420036 -1.022355         -0.439037  \n",
       "4       -0.822831 -1.420036  0.241888         -0.439037  \n",
       "...           ...       ...       ...               ...  \n",
       "2235     0.124718  0.041094  0.358936         -0.439037  \n",
       "2236    -1.942661 -1.420036  0.470432          1.035390  \n",
       "2237    -0.848673 -1.420036  0.189476          1.035390  \n",
       "2238    -0.844366 -1.420036  0.679401         -0.439037  \n",
       "2239     1.162714  1.502225  0.025208         -0.439037  \n",
       "\n",
       "[2240 rows x 9 columns]"
      ]
     },
     "execution_count": 43,
     "metadata": {},
     "output_type": "execute_result"
    }
   ],
   "source": [
    "sf_df"
   ]
  },
  {
   "cell_type": "code",
   "execution_count": 44,
   "id": "f7af2eed",
   "metadata": {},
   "outputs": [
    {
     "data": {
      "image/png": "[encoded data removed]",
      "text/plain": [
       "<Figure size 432x288 with 1 Axes>"
      ]
     },
     "metadata": {
      "needs_background": "light"
     },
     "output_type": "display_data"
    }
   ],
   "source": [
    "# Using the elbow method to find the optimal number of clusters\n",
    "from sklearn.cluster import KMeans\n",
    "wcss = []\n",
    "for i in range(1, 18):\n",
    "    kmeans = KMeans(n_clusters = i, init = 'k-means++', random_state = 50)\n",
    "    kmeans.fit(X)\n",
    "    wcss.append(kmeans.inertia_)\n",
    "plt.plot(range(1, 18), wcss,color = \"mediumblue\",marker = '*')\n",
    "plt.title('The Elbow Method')\n",
    "plt.xlabel('Number of clusters')\n",
    "plt.ylabel('WCSS')\n",
    "plt.show()"
   ]
  },
  {
   "cell_type": "code",
   "execution_count": 45,
   "id": "ce585f96",
   "metadata": {},
   "outputs": [],
   "source": [
    "# Fitting K-Means to the dataset\n",
    "kmeans = KMeans(n_clusters = 2, init = 'k-means++', random_state = 50)\n",
    "y_kmeans = kmeans.fit_predict(X)"
   ]
  },
  {
   "cell_type": "code",
   "execution_count": 46,
   "id": "2b47dbe4",
   "metadata": {},
   "outputs": [
    {
     "data": {
      "image/png": "[encoded data removed]",
      "text/plain": [
       "<Figure size 1080x576 with 1 Axes>"
      ]
     },
     "metadata": {
      "needs_background": "light"
     },
     "output_type": "display_data"
    }
   ],
   "source": [
    "# Visualising the clusters\n",
    "plt.figure(figsize= (15,8))\n",
    "plt.scatter(X[y_kmeans == 0, 0], X[y_kmeans == 0, 1], s = 25, c = 'mediumblue', label = 'Sensible Customers')\n",
    "plt.scatter(X[y_kmeans == 1, 0], X[y_kmeans == 1, 1], s = 25, c = 'lawngreen', label = 'Careless Customers')\n",
    "plt.scatter(kmeans.cluster_centers_[:, 0], kmeans.cluster_centers_[:, 1], s = 55, c = 'black', label = 'Centroids')\n",
    "plt.title('Clusters of customers',fontsize = 20)\n",
    "plt.xlabel('Income',fontsize = 15)\n",
    "plt.ylabel('Expenses',fontsize = 15)\n",
    "plt.legend(fontsize = 15)\n",
    "plt.show()"
   ]
  },
  {
   "cell_type": "markdown",
   "id": "71c48087",
   "metadata": {},
   "source": [
    "*Customer who has Low income and Low Expenses are Sensible customers.\n",
    "*Customer who has Low income and High Expenses are Careless customers."
   ]
  },
  {
   "cell_type": "markdown",
   "id": "bc00373f",
   "metadata": {},
   "source": [
    "*The highest Birth rate of customers is 87.\n",
    "*97.58% of the customers are \"Post graduated\"\n",
    ". * More than half of the customers are in a relationship - 64.46%.\n",
    "* Minimum Expenses - 5.\n",
    "* Maximum Expenses - 2525.\n",
    "* Mean Expenses - 605.7982.\n",
    "* 79.33% of the customers who accepted the offer in the campaign is 0.\n",
    "* Minimum NumTotalPurchases - 0.\n",
    "* Maximum NumTotalPurchases - 44.\n",
    "* Mean NumTotalPurchases - 14.8620.\n",
    "* More than half are 8 years old customers.\n",
    "* Minimum Income - 1730.\n",
    "* Maximum Income - 666666.\n",
    "* Mean Income - 52237.9754.\n",
    "* The highest Expenses rate for Post Graduated Customers is 97.58%.\n",
    "* The highest Expenses rate for Customers who are in a Relationship is 64.46%.\n",
    "* The highest Expenses rate for Customers who have one Kid is 50.35%.\n",
    "* The highest Expenses rate for Customers who accepted the offer in the campaign \"0\" is 79.33%.\n",
    "* The highest Expenses rate for 8 years old Customers is 53.08%.\n",
    "\n"
   ]
  },
  {
   "cell_type": "markdown",
   "id": "f5372c54",
   "metadata": {},
   "source": [
    "For this part of the problem, I will be performing multinomial classification on the promotions section of the data.\n",
    "I will use a XGBoost Classifier to classify if a customer is one of the following:\n",
    "\n",
    "1. Will part in no promotions.\n",
    "2. Will part in one promotion.\n",
    "3. Will part in more than one promotions.\n",
    "\n",
    "Since I am doing multimodal classification with 3 classes, I will have 3 different SHAP analyses."
   ]
  },
  {
   "cell_type": "code",
   "execution_count": 47,
   "id": "e0988031",
   "metadata": {},
   "outputs": [],
   "source": [
    "import numpy as np\n",
    "import pandas as pd\n",
    "import matplotlib.pyplot as plt\n",
    "import seaborn as sns\n",
    "from sklearn.preprocessing import StandardScaler,LabelEncoder\n",
    "from sklearn.decomposition import PCA\n",
    "from sklearn.cluster import KMeans\n",
    "from mpl_toolkits.mplot3d import Axes3D\n",
    "from xgboost import XGBClassifier\n",
    "from sklearn.model_selection import train_test_split\n",
    "from sklearn.metrics import accuracy_score\n",
    "import shap\n",
    "import warnings\n",
    "warnings.filterwarnings('ignore')\n",
    "%matplotlib inline"
   ]
  },
  {
   "cell_type": "code",
   "execution_count": 48,
   "id": "4c2d8008",
   "metadata": {},
   "outputs": [],
   "source": [
    "df=pd.read_csv(r'C:\\Users\\DELL\\Desktop\\numpy/marketing_campaign.csv',delimiter='\\t')"
   ]
  },
  {
   "cell_type": "code",
   "execution_count": 49,
   "id": "6ed29888",
   "metadata": {},
   "outputs": [
    {
     "name": "stdout",
     "output_type": "stream",
     "text": [
      "No of data points in data are :  2216\n"
     ]
    }
   ],
   "source": [
    "df.dropna(inplace = True)\n",
    "print(\"No of data points in data are : \" , len(df))"
   ]
  },
  {
   "cell_type": "code",
   "execution_count": 50,
   "id": "41e551e8",
   "metadata": {},
   "outputs": [
    {
     "name": "stdout",
     "output_type": "stream",
     "text": [
      "The newest customer's enrolment date in the records: 2014-12-06\n",
      "The oldest customer's enrolment date in the records: 2012-01-08\n"
     ]
    }
   ],
   "source": [
    "## Dt_Customer: Date of customer's enrollment with the company\n",
    "df[\"Dt_Customer\"] = pd.to_datetime(df[\"Dt_Customer\"])\n",
    "dates= []\n",
    "for i in df[\"Dt_Customer\"]:\n",
    "    i = i.date()\n",
    "    dates.append(i)  \n",
    "\n",
    "print(\"The newest customer's enrolment date in the records:\",max(dates))\n",
    "print(\"The oldest customer's enrolment date in the records:\",min(dates))\n",
    "\n",
    "\n",
    "\n",
    "days = []\n",
    "d1 = max(dates) \n",
    "for i in dates:\n",
    "    delta = d1 - i\n",
    "    days.append(delta)\n",
    "df[\"Customer_days\"] = days\n",
    "df[\"Customer_days\"] = pd.to_numeric(df[\"Customer_days\"], errors=\"coerce\")"
   ]
  },
  {
   "cell_type": "code",
   "execution_count": 51,
   "id": "955f1d8e",
   "metadata": {},
   "outputs": [],
   "source": [
    "### Age will provide more clearity\n",
    "df[\"Age\"] = 2021-df[\"Year_Birth\"]  \n",
    "\n",
    "## Let's see whole spending\n",
    "df[\"Spent\"] = df[\"MntWines\"]+ df[\"MntFruits\"]+ df[\"MntMeatProducts\"]+ df[\"MntFishProducts\"]+ df[\"MntSweetProducts\"]+ df[\"MntGoldProds\"]\n",
    "\n",
    "\n",
    "## Let's define Marital Status in a more  better way to get more clarity how many members are in household\n",
    "df[\"Living_With\"]=df[\"Marital_Status\"].replace({\"Married\":\"Partner\", \"Together\":\"Partner\", \"Absurd\":\"Alone\", \"Widow\":\"Alone\", \"YOLO\":\"Alone\", \"Divorced\":\"Alone\", \"Single\":\"Alone\",})\n",
    "\n",
    "## To get a more clarity about family's background\n",
    "df[\"Children\"]=df[\"Kidhome\"]+df[\"Teenhome\"]\n",
    "\n",
    "\n",
    "df[\"Family_Size\"] = df[\"Living_With\"].replace({\"Alone\": 1, \"Partner\":2})+ df[\"Children\"]\n",
    "\n",
    "\n",
    "df[\"Is_Parent\"] = np.where(df.Children> 0, 1, 0)\n",
    "\n",
    "\n",
    "\n",
    "\n",
    "### Dropping the engineered features\n",
    "features_to_drop = [\"ID\",\"Marital_Status\", \"Dt_Customer\", \"Z_CostContact\", \"Z_Revenue\", \"Year_Birth\"]\n",
    "df.drop(features_to_drop, axis=1,inplace = True)"
   ]
  },
  {
   "cell_type": "code",
   "execution_count": 52,
   "id": "a754203f",
   "metadata": {},
   "outputs": [],
   "source": [
    "cont_vars = ['Income','Spent',\"MntWines\",\"MntFruits\",\"MntMeatProducts\",\"MntFishProducts\",\"MntSweetProducts\",\"MntGoldProds\",'NumDealsPurchases',\n",
    "       'NumWebPurchases', 'NumCatalogPurchases', 'NumStorePurchases',\n",
    "       'NumWebVisitsMonth','Recency','Children']\n",
    "\n"
   ]
  },
  {
   "cell_type": "code",
   "execution_count": 53,
   "id": "cab1eff2",
   "metadata": {},
   "outputs": [],
   "source": [
    "# Spent vs Products\n",
    "Product_vars = ['MntWines',\n",
    "       'MntFruits', 'MntMeatProducts', 'MntFishProducts', 'MntSweetProducts',\n",
    "       'MntGoldProds']\n",
    "\n"
   ]
  },
  {
   "cell_type": "code",
   "execution_count": 54,
   "id": "d337844d",
   "metadata": {},
   "outputs": [
    {
     "data": {
      "text/plain": [
       "<Figure size 720x504 with 0 Axes>"
      ]
     },
     "execution_count": 54,
     "metadata": {},
     "output_type": "execute_result"
    },
    {
     "data": {
      "text/plain": [
       "<Figure size 720x504 with 0 Axes>"
      ]
     },
     "metadata": {},
     "output_type": "display_data"
    }
   ],
   "source": [
    "Personal_vars = ['Customer_days','Age','Education','Kidhome','Teenhome','Children','Family_Size','Is_Parent','Living_With']\n",
    "plt.figure(figsize = (10,7))"
   ]
  },
  {
   "cell_type": "code",
   "execution_count": 55,
   "id": "6d8965b2",
   "metadata": {},
   "outputs": [],
   "source": [
    "Place_vars = ['NumDealsPurchases', 'NumWebPurchases',\n",
    "       'NumCatalogPurchases', 'NumStorePurchases', 'NumWebVisitsMonth']"
   ]
  },
  {
   "cell_type": "code",
   "execution_count": 56,
   "id": "d6096478",
   "metadata": {},
   "outputs": [],
   "source": [
    "df[\"Total\"] = df[\"AcceptedCmp1\"]+ df[\"AcceptedCmp2\"]+ df[\"AcceptedCmp3\"]+ df[\"AcceptedCmp4\"]+ df[\"AcceptedCmp5\"]\n"
   ]
  },
  {
   "cell_type": "code",
   "execution_count": 57,
   "id": "e85c3274",
   "metadata": {},
   "outputs": [
    {
     "ename": "NameError",
     "evalue": "name 'promotion_vars' is not defined",
     "output_type": "error",
     "traceback": [
      "\u001b[1;31m---------------------------------------------------------------------------\u001b[0m",
      "\u001b[1;31mNameError\u001b[0m                                 Traceback (most recent call last)",
      "\u001b[1;32m<ipython-input-57-ad3313871001>\u001b[0m in \u001b[0;36m<module>\u001b[1;34m\u001b[0m\n\u001b[1;32m----> 1\u001b[1;33m \u001b[0mpromotion_vars\u001b[0m\u001b[1;33m.\u001b[0m\u001b[0mappend\u001b[0m\u001b[1;33m(\u001b[0m\u001b[1;34m'NumDealsPurchases'\u001b[0m\u001b[1;33m)\u001b[0m\u001b[1;33m\u001b[0m\u001b[1;33m\u001b[0m\u001b[0m\n\u001b[0m\u001b[0;32m      2\u001b[0m \u001b[0mpromotion_vars\u001b[0m\u001b[1;33m.\u001b[0m\u001b[0mremove\u001b[0m\u001b[1;33m(\u001b[0m\u001b[1;34m'Complain'\u001b[0m\u001b[1;33m)\u001b[0m\u001b[1;33m\u001b[0m\u001b[1;33m\u001b[0m\u001b[0m\n\u001b[0;32m      3\u001b[0m \u001b[0mpromotion_vars\u001b[0m\u001b[1;33m\u001b[0m\u001b[1;33m\u001b[0m\u001b[0m\n",
      "\u001b[1;31mNameError\u001b[0m: name 'promotion_vars' is not defined"
     ]
    }
   ],
   "source": [
    "promotion_vars.append('NumDealsPurchases')\n",
    "promotion_vars.remove('Complain')\n",
    "promotion_vars"
   ]
  },
  {
   "cell_type": "code",
   "execution_count": null,
   "id": "a9d7bba0",
   "metadata": {},
   "outputs": [],
   "source": [
    "df_promotion = df[promotion_vars]\n",
    "df_promotion.head() "
   ]
  },
  {
   "cell_type": "code",
   "execution_count": null,
   "id": "a3654702",
   "metadata": {},
   "outputs": [],
   "source": [
    "train,test = train_test_split(df_promotion,test_size= 0.2)\n"
   ]
  },
  {
   "cell_type": "code",
   "execution_count": null,
   "id": "a0726d6c",
   "metadata": {},
   "outputs": [],
   "source": [
    "X_train = train.drop('Response',axis = 1)\n",
    "y_train = train['Response']\n",
    "X_test = test.drop('Response',axis = 1)\n",
    "y_test = test['Response']"
   ]
  },
  {
   "cell_type": "code",
   "execution_count": null,
   "id": "66927cb5",
   "metadata": {},
   "outputs": [],
   "source": [
    "xgb = XGBClassifier()\n",
    "fit =xgb.fit(X_train,y_train)\n",
    "y_pred = xgb.predict(X_test)\n",
    "accuracy_score(y_pred,y_test)"
   ]
  },
  {
   "cell_type": "markdown",
   "id": "800f6242",
   "metadata": {},
   "source": [
    "# SHAP Analysis"
   ]
  },
  {
   "cell_type": "code",
   "execution_count": null,
   "id": "fc2e3d7b",
   "metadata": {},
   "outputs": [],
   "source": [
    "pred = xgb.predict(X_test, output_margin=True)\n",
    "explainer = shap.TreeExplainer(xgb)\n",
    "shap_values = explainer.shap_values(X_test)\n",
    "np.abs(shap_values.sum(1) + explainer.expected_value - pred).max()"
   ]
  },
  {
   "cell_type": "code",
   "execution_count": null,
   "id": "203c83f1",
   "metadata": {},
   "outputs": [],
   "source": [
    "shap.summary_plot(shap_values, X_test)"
   ]
  },
  {
   "cell_type": "markdown",
   "id": "687cd36c",
   "metadata": {},
   "source": [
    "Run SHAP analysis on the model results\n",
    "It looks like the campaigns had a very least effect on people and it has'nt pulled the audience to buy the product. Deals made with Disocunt may had been able to make more effect then Campaigns.Perhaps there is a need of better targeted and well planned campaigns.\n",
    "\n",
    "Recommendation to business for the next round of campaigns.\n",
    "Discounts can be mentioned in the campaigns\n",
    "Campaigns should be more family oriented as we saw our data mostly contains families\n",
    "A strategy can be followed as we have already clustered data so we can provide valid recommendations to customers according to their interests.\n",
    "Some discounts can be made on products displayed via campaign so that to sell more products at a cheap rate. This will help to retain customers.\n"
   ]
  }
 ],
 "metadata": {
  "kernelspec": {
   "display_name": "Python 3",
   "language": "python",
   "name": "python3"
  },
  "language_info": {
   "codemirror_mode": {
    "name": "ipython",
    "version": 3
   },
   "file_extension": ".py",
   "mimetype": "text/x-python",
   "name": "python",
   "nbconvert_exporter": "python",
   "pygments_lexer": "ipython3",
   "version": "3.8.8"
  }
 },
 "nbformat": 4,
 "nbformat_minor": 5
}
